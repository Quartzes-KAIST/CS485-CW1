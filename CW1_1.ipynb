{
  "nbformat": 4,
  "nbformat_minor": 0,
  "metadata": {
    "colab": {
      "provenance": []
    },
    "kernelspec": {
      "name": "python3",
      "display_name": "Python 3"
    },
    "language_info": {
      "name": "python"
    }
  },
  "cells": [
    {
      "cell_type": "markdown",
      "source": [
        "# Eigenfaces"
      ],
      "metadata": {
        "id": "nBTgQbnao5c1"
      }
    },
    {
      "cell_type": "markdown",
      "source": [
        "1-a. Apply PCA to S=(1/N)AA^T"
      ],
      "metadata": {
        "id": "Uj7t5hDPLlNH"
      }
    },
    {
      "cell_type": "code",
      "source": [
        "from google.colab import drive\n",
        "drive.mount('/content/drive')"
      ],
      "metadata": {
        "id": "3bLYvbtq66ht",
        "colab": {
          "base_uri": "https://localhost:8080/"
        },
        "outputId": "fd9bb45c-f320-4b5c-e229-ed901d4b0b48"
      },
      "execution_count": null,
      "outputs": [
        {
          "output_type": "stream",
          "name": "stdout",
          "text": [
            "Drive already mounted at /content/drive; to attempt to forcibly remount, call drive.mount(\"/content/drive\", force_remount=True).\n"
          ]
        }
      ]
    },
    {
      "cell_type": "markdown",
      "source": [
        "First, partition the provided face data into training and testing data. To do this, we need to load the given face data first."
      ],
      "metadata": {
        "id": "z8mCc298pfyf"
      }
    },
    {
      "cell_type": "code",
      "execution_count": null,
      "metadata": {
        "colab": {
          "base_uri": "https://localhost:8080/"
        },
        "id": "wcOnqdbeotMf",
        "outputId": "04167fae-dbba-46d4-e442-dde579adfd43"
      },
      "outputs": [
        {
          "output_type": "execute_result",
          "data": {
            "text/plain": [
              "{'__header__': b'MATLAB 5.0 MAT-file, Platform: PCWIN, Created on: Sat May 27 02:07:24 2006',\n",
              " '__version__': '1.0',\n",
              " '__globals__': [],\n",
              " 'X': array([[106, 130, 191, ...,  70, 183,  77],\n",
              "        [103, 129, 185, ...,  62, 250,  72],\n",
              "        [103, 130, 174, ...,  83, 163,  68],\n",
              "        ...,\n",
              "        [ 37,  40,  22, ...,  87, 102,  93],\n",
              "        [ 36,  36,  19, ...,  89,  95, 103],\n",
              "        [ 41,  35,  17, ...,  94, 106, 110]], dtype=uint8),\n",
              " 'l': array([[ 1,  1,  1,  1,  1,  1,  1,  1,  1,  1,  2,  2,  2,  2,  2,  2,\n",
              "          2,  2,  2,  2,  3,  3,  3,  3,  3,  3,  3,  3,  3,  3,  4,  4,\n",
              "          4,  4,  4,  4,  4,  4,  4,  4,  5,  5,  5,  5,  5,  5,  5,  5,\n",
              "          5,  5,  6,  6,  6,  6,  6,  6,  6,  6,  6,  6,  7,  7,  7,  7,\n",
              "          7,  7,  7,  7,  7,  7,  8,  8,  8,  8,  8,  8,  8,  8,  8,  8,\n",
              "          9,  9,  9,  9,  9,  9,  9,  9,  9,  9, 10, 10, 10, 10, 10, 10,\n",
              "         10, 10, 10, 10, 11, 11, 11, 11, 11, 11, 11, 11, 11, 11, 12, 12,\n",
              "         12, 12, 12, 12, 12, 12, 12, 12, 13, 13, 13, 13, 13, 13, 13, 13,\n",
              "         13, 13, 14, 14, 14, 14, 14, 14, 14, 14, 14, 14, 15, 15, 15, 15,\n",
              "         15, 15, 15, 15, 15, 15, 16, 16, 16, 16, 16, 16, 16, 16, 16, 16,\n",
              "         17, 17, 17, 17, 17, 17, 17, 17, 17, 17, 18, 18, 18, 18, 18, 18,\n",
              "         18, 18, 18, 18, 19, 19, 19, 19, 19, 19, 19, 19, 19, 19, 20, 20,\n",
              "         20, 20, 20, 20, 20, 20, 20, 20, 21, 21, 21, 21, 21, 21, 21, 21,\n",
              "         21, 21, 22, 22, 22, 22, 22, 22, 22, 22, 22, 22, 23, 23, 23, 23,\n",
              "         23, 23, 23, 23, 23, 23, 24, 24, 24, 24, 24, 24, 24, 24, 24, 24,\n",
              "         25, 25, 25, 25, 25, 25, 25, 25, 25, 25, 26, 26, 26, 26, 26, 26,\n",
              "         26, 26, 26, 26, 27, 27, 27, 27, 27, 27, 27, 27, 27, 27, 28, 28,\n",
              "         28, 28, 28, 28, 28, 28, 28, 28, 29, 29, 29, 29, 29, 29, 29, 29,\n",
              "         29, 29, 30, 30, 30, 30, 30, 30, 30, 30, 30, 30, 31, 31, 31, 31,\n",
              "         31, 31, 31, 31, 31, 31, 32, 32, 32, 32, 32, 32, 32, 32, 32, 32,\n",
              "         33, 33, 33, 33, 33, 33, 33, 33, 33, 33, 34, 34, 34, 34, 34, 34,\n",
              "         34, 34, 34, 34, 35, 35, 35, 35, 35, 35, 35, 35, 35, 35, 36, 36,\n",
              "         36, 36, 36, 36, 36, 36, 36, 36, 37, 37, 37, 37, 37, 37, 37, 37,\n",
              "         37, 37, 38, 38, 38, 38, 38, 38, 38, 38, 38, 38, 39, 39, 39, 39,\n",
              "         39, 39, 39, 39, 39, 39, 40, 40, 40, 40, 40, 40, 40, 40, 40, 40,\n",
              "         41, 41, 41, 41, 41, 41, 41, 41, 41, 41, 42, 42, 42, 42, 42, 42,\n",
              "         42, 42, 42, 42, 43, 43, 43, 43, 43, 43, 43, 43, 43, 43, 44, 44,\n",
              "         44, 44, 44, 44, 44, 44, 44, 44, 45, 45, 45, 45, 45, 45, 45, 45,\n",
              "         45, 45, 46, 46, 46, 46, 46, 46, 46, 46, 46, 46, 47, 47, 47, 47,\n",
              "         47, 47, 47, 47, 47, 47, 48, 48, 48, 48, 48, 48, 48, 48, 48, 48,\n",
              "         49, 49, 49, 49, 49, 49, 49, 49, 49, 49, 50, 50, 50, 50, 50, 50,\n",
              "         50, 50, 50, 50, 51, 51, 51, 51, 51, 51, 51, 51, 51, 51, 52, 52,\n",
              "         52, 52, 52, 52, 52, 52, 52, 52]], dtype=uint8)}"
            ]
          },
          "metadata": {},
          "execution_count": 2
        }
      ],
      "source": [
        "import scipy.io as sio\n",
        "import numpy as np\n",
        "import matplotlib.pyplot as plt\n",
        "\n",
        "mat_content = sio.loadmat('/content/drive/MyDrive/face.mat')\n",
        "\n",
        "mat_content # Let's see the content..."
      ]
    },
    {
      "cell_type": "markdown",
      "source": [
        "'X' contains face data, and 'l' contains identifier."
      ],
      "metadata": {
        "id": "vPtNU2Vw5BVw"
      }
    },
    {
      "cell_type": "code",
      "source": [
        "face_data = mat_content['X']\n",
        "\n",
        "print(face_data) # Each column represents one face image, each row a pixel value for a particular coordinate of the image\n",
        "print(face_data.shape)"
      ],
      "metadata": {
        "colab": {
          "base_uri": "https://localhost:8080/"
        },
        "id": "jJbrfTE_5HW3",
        "outputId": "4b6dd3c4-5a58-48dc-e8cf-aba5f24523eb"
      },
      "execution_count": null,
      "outputs": [
        {
          "output_type": "stream",
          "name": "stdout",
          "text": [
            "[[106 130 191 ...  70 183  77]\n",
            " [103 129 185 ...  62 250  72]\n",
            " [103 130 174 ...  83 163  68]\n",
            " ...\n",
            " [ 37  40  22 ...  87 102  93]\n",
            " [ 36  36  19 ...  89  95 103]\n",
            " [ 41  35  17 ...  94 106 110]]\n",
            "(2576, 520)\n"
          ]
        }
      ]
    },
    {
      "cell_type": "code",
      "source": [
        "face_identity = mat_content['l']\n",
        "\n",
        "print(face_identity)\n",
        "print(face_identity.shape)"
      ],
      "metadata": {
        "colab": {
          "base_uri": "https://localhost:8080/"
        },
        "id": "Q6lzLS-U5Jp0",
        "outputId": "26d0fddb-ae7e-444f-92f1-b87bd9e1071b"
      },
      "execution_count": null,
      "outputs": [
        {
          "output_type": "stream",
          "name": "stdout",
          "text": [
            "[[ 1  1  1  1  1  1  1  1  1  1  2  2  2  2  2  2  2  2  2  2  3  3  3  3\n",
            "   3  3  3  3  3  3  4  4  4  4  4  4  4  4  4  4  5  5  5  5  5  5  5  5\n",
            "   5  5  6  6  6  6  6  6  6  6  6  6  7  7  7  7  7  7  7  7  7  7  8  8\n",
            "   8  8  8  8  8  8  8  8  9  9  9  9  9  9  9  9  9  9 10 10 10 10 10 10\n",
            "  10 10 10 10 11 11 11 11 11 11 11 11 11 11 12 12 12 12 12 12 12 12 12 12\n",
            "  13 13 13 13 13 13 13 13 13 13 14 14 14 14 14 14 14 14 14 14 15 15 15 15\n",
            "  15 15 15 15 15 15 16 16 16 16 16 16 16 16 16 16 17 17 17 17 17 17 17 17\n",
            "  17 17 18 18 18 18 18 18 18 18 18 18 19 19 19 19 19 19 19 19 19 19 20 20\n",
            "  20 20 20 20 20 20 20 20 21 21 21 21 21 21 21 21 21 21 22 22 22 22 22 22\n",
            "  22 22 22 22 23 23 23 23 23 23 23 23 23 23 24 24 24 24 24 24 24 24 24 24\n",
            "  25 25 25 25 25 25 25 25 25 25 26 26 26 26 26 26 26 26 26 26 27 27 27 27\n",
            "  27 27 27 27 27 27 28 28 28 28 28 28 28 28 28 28 29 29 29 29 29 29 29 29\n",
            "  29 29 30 30 30 30 30 30 30 30 30 30 31 31 31 31 31 31 31 31 31 31 32 32\n",
            "  32 32 32 32 32 32 32 32 33 33 33 33 33 33 33 33 33 33 34 34 34 34 34 34\n",
            "  34 34 34 34 35 35 35 35 35 35 35 35 35 35 36 36 36 36 36 36 36 36 36 36\n",
            "  37 37 37 37 37 37 37 37 37 37 38 38 38 38 38 38 38 38 38 38 39 39 39 39\n",
            "  39 39 39 39 39 39 40 40 40 40 40 40 40 40 40 40 41 41 41 41 41 41 41 41\n",
            "  41 41 42 42 42 42 42 42 42 42 42 42 43 43 43 43 43 43 43 43 43 43 44 44\n",
            "  44 44 44 44 44 44 44 44 45 45 45 45 45 45 45 45 45 45 46 46 46 46 46 46\n",
            "  46 46 46 46 47 47 47 47 47 47 47 47 47 47 48 48 48 48 48 48 48 48 48 48\n",
            "  49 49 49 49 49 49 49 49 49 49 50 50 50 50 50 50 50 50 50 50 51 51 51 51\n",
            "  51 51 51 51 51 51 52 52 52 52 52 52 52 52 52 52]]\n",
            "(1, 520)\n"
          ]
        }
      ]
    },
    {
      "cell_type": "markdown",
      "source": [
        "Next, split dataset into training and testing data."
      ],
      "metadata": {
        "id": "TmvaA5so15at"
      }
    },
    {
      "cell_type": "code",
      "source": [
        "from sklearn.model_selection import train_test_split\n",
        "\n",
        "X_train, X_test, y_train, y_test = train_test_split(face_data.T, face_identity.T, test_size=0.2, random_state=42)\n",
        "\n",
        "print(X_train.shape)"
      ],
      "metadata": {
        "colab": {
          "base_uri": "https://localhost:8080/"
        },
        "id": "vSzKY7ZN4I6a",
        "outputId": "349447d8-7d4a-4587-de42-4d718d7ef0bc"
      },
      "execution_count": null,
      "outputs": [
        {
          "output_type": "stream",
          "name": "stdout",
          "text": [
            "(416, 2576)\n"
          ]
        }
      ]
    },
    {
      "cell_type": "markdown",
      "source": [
        "Now apply PCA to training data, by computing the eigenvectors and eigenvalues of the covariance matrix S=(1/N)AA^T."
      ],
      "metadata": {
        "id": "8vIFCK3I8iqV"
      }
    },
    {
      "cell_type": "code",
      "source": [
        "# Step 1: Center the data by subtracting the mean of each feature (column)\n",
        "mean = np.mean(X_train, axis=0)\n",
        "centered_data = X_train - mean\n",
        "\n",
        "# Step 2: Calculate the covariance matrix S=(1/N)AA^T\n",
        "covariance_matrix = np.dot(centered_data.T, centered_data)\n",
        "\n",
        "# Step 3: Perform eigenvalue decomposition on the covariance matrix\n",
        "eigenvalues, eigenvectors = np.linalg.eig(covariance_matrix)\n",
        "\n",
        "# Let's see how mean image looks like...\n",
        "plt.imshow(np.reshape(mean,(46,56)).T, cmap = 'gist_gray')"
      ],
      "metadata": {
        "colab": {
          "base_uri": "https://localhost:8080/",
          "height": 450
        },
        "id": "paXGM6f28xya",
        "outputId": "43b519ee-f57d-470c-88e9-cb191e4a60e8"
      },
      "execution_count": null,
      "outputs": [
        {
          "output_type": "execute_result",
          "data": {
            "text/plain": [
              "<matplotlib.image.AxesImage at 0x792ea3b98730>"
            ]
          },
          "metadata": {},
          "execution_count": 6
        },
        {
          "output_type": "display_data",
          "data": {
            "text/plain": [
              "<Figure size 640x480 with 1 Axes>"
            ],
            "image/png": "[encoded data removed]"
          },
          "metadata": {}
        }
      ]
    },
    {
      "cell_type": "code",
      "source": [
        "print(eigenvalues.real)\n",
        "print(eigenvalues.shape)\n",
        "\n",
        "print(eigenvectors.real)\n",
        "print(eigenvectors.shape)"
      ],
      "metadata": {
        "colab": {
          "base_uri": "https://localhost:8080/"
        },
        "id": "HDAC9TCDvQal",
        "outputId": "a15edb26-0d92-4e0b-ec86-2495e3e1ee34"
      },
      "execution_count": null,
      "outputs": [
        {
          "output_type": "stream",
          "name": "stdout",
          "text": [
            "[ 3.84810279e+08  2.21532743e+08  1.86733184e+08 ... -8.20613964e-11\n",
            " -8.22348994e-11 -5.32045254e-13]\n",
            "(2576,)\n",
            "[[ 1.32633609e-02 -1.02042122e-02  2.07297535e-02 ... -2.70242187e-03\n",
            "   1.05898577e-03  2.72702727e-06]\n",
            " [ 1.43289992e-02 -9.04605352e-03  2.24554700e-02 ... -6.08693396e-04\n",
            "  -4.24566903e-04 -8.32590808e-04]\n",
            " [ 1.49902967e-02 -6.76461690e-03  2.52007189e-02 ... -4.12607103e-04\n",
            "   3.55116299e-04  1.08962807e-04]\n",
            " ...\n",
            " [-3.11900935e-03  4.65940918e-02 -1.28877270e-02 ... -1.20896681e-03\n",
            "   5.87410225e-03  3.79640783e-03]\n",
            " [-2.94199093e-03  4.64623673e-02 -1.29968033e-02 ...  8.41061938e-03\n",
            "  -3.50890968e-03 -1.58810352e-03]\n",
            " [-3.24891945e-03  4.69209710e-02 -1.52483281e-02 ... -1.04545929e-02\n",
            "   2.85585299e-02 -3.39783608e-04]]\n",
            "(2576, 2576)\n"
          ]
        }
      ]
    },
    {
      "cell_type": "markdown",
      "source": [
        "Let us sort and filter out eigenvalues."
      ],
      "metadata": {
        "id": "STB9-eCtAYYg"
      }
    },
    {
      "cell_type": "code",
      "source": [
        "# Step 4: Sort the eigenvectors by eigenvalues in descending order\n",
        "sorted_indices = np.argsort(eigenvalues)[::-1]\n",
        "eigenvectors = eigenvectors[:, sorted_indices]\n",
        "\n",
        "# Step 5: Select the top k eigenvectors (where k is the number of desired components)\n",
        "# You can choose the number of components you want to retain (k) based on your requirements.\n",
        "# For example, if you want to reduce dimensionality, you can select a smaller k.\n",
        "k = 128  # Choose an appropriate value for k\n",
        "\n",
        "top_k_eigenvectors = eigenvectors[:, :k]\n",
        "\n",
        "print(top_k_eigenvectors.real)"
      ],
      "metadata": {
        "colab": {
          "base_uri": "https://localhost:8080/"
        },
        "id": "W6UBlc-LAhCr",
        "outputId": "3ddfe7a0-ebd1-43cb-9646-5d42a43ed23c"
      },
      "execution_count": null,
      "outputs": [
        {
          "output_type": "stream",
          "name": "stdout",
          "text": [
            "[[ 0.01326336 -0.01020421  0.02072975 ... -0.00434629  0.05376194\n",
            "   0.01386962]\n",
            " [ 0.014329   -0.00904605  0.02245547 ... -0.01943898  0.0349697\n",
            "  -0.01033351]\n",
            " [ 0.0149903  -0.00676462  0.02520072 ... -0.03120359  0.01509001\n",
            "  -0.01566353]\n",
            " ...\n",
            " [-0.00311901  0.04659409 -0.01288773 ... -0.00610781  0.01975852\n",
            "   0.01252685]\n",
            " [-0.00294199  0.04646237 -0.0129968  ...  0.05439034 -0.01893488\n",
            "   0.02017662]\n",
            " [-0.00324892  0.04692097 -0.01524833 ...  0.03499624 -0.00315101\n",
            "   0.00302919]]\n"
          ]
        }
      ]
    },
    {
      "cell_type": "markdown",
      "source": [
        "Finally, we can project data into filtered eigenvectors to apply PCA."
      ],
      "metadata": {
        "id": "k3i18MdPBQI5"
      }
    },
    {
      "cell_type": "code",
      "source": [
        "# Step 6: Project the centered data onto the top k eigenvectors to get the reduced-dimensional representation\n",
        "reduced_data = np.dot(centered_data, top_k_eigenvectors)\n",
        "\n",
        "print(reduced_data.shape)"
      ],
      "metadata": {
        "colab": {
          "base_uri": "https://localhost:8080/"
        },
        "id": "_MolyOzJBVtZ",
        "outputId": "739f7f06-4d8c-4a66-f78c-f64a7db73281"
      },
      "execution_count": null,
      "outputs": [
        {
          "output_type": "stream",
          "name": "stdout",
          "text": [
            "(416, 128)\n"
          ]
        }
      ]
    },
    {
      "cell_type": "markdown",
      "source": [
        "From the projected data, we can reconstruct image."
      ],
      "metadata": {
        "id": "YzGwwKmie7ac"
      }
    },
    {
      "cell_type": "code",
      "source": [
        "reconstructed_data = (np.dot(reduced_data, top_k_eigenvectors.T) + mean).real\n",
        "\n",
        "reconstruction_error = np.mean(np.square(X_train - reconstructed_data))  # Calculate the mean squared reconstruction error\n",
        "\n",
        "# Print or use the reconstruction error as needed\n",
        "print(\"Reconstruction Error:\", reconstruction_error)"
      ],
      "metadata": {
        "colab": {
          "base_uri": "https://localhost:8080/"
        },
        "id": "Zo_zh-klfACQ",
        "outputId": "6567819d-a79b-4b2e-8b42-2908d38a8cf9"
      },
      "execution_count": null,
      "outputs": [
        {
          "output_type": "stream",
          "name": "stdout",
          "text": [
            "Reconstruction Error: 81.87901527640476\n"
          ]
        }
      ]
    },
    {
      "cell_type": "code",
      "source": [
        "original_image = X_train[42]\n",
        "original_face = np.reshape(original_image,(46,56)).T\n",
        "\n",
        "reconstructed_image = reconstructed_data[42]\n",
        "reconstructed_face = np.reshape(reconstructed_image,(46,56)).T\n",
        "\n",
        "plt.subplot(121),plt.imshow(original_face, cmap = 'gist_gray')\n",
        "plt.title('original'), plt.xticks([]), plt.yticks([])\n",
        "\n",
        "plt.subplot(122),plt.imshow(reconstructed_face, cmap = 'gist_gray')\n",
        "plt.title('reconstructed'), plt.xticks([]), plt.yticks([])\n",
        "\n",
        "plt.show()"
      ],
      "metadata": {
        "colab": {
          "base_uri": "https://localhost:8080/",
          "height": 333
        },
        "id": "0M5Gy0D7gRx2",
        "outputId": "b2d14210-f094-4fb8-dcb2-268089bb7b98"
      },
      "execution_count": null,
      "outputs": [
        {
          "output_type": "display_data",
          "data": {
            "text/plain": [
              "<Figure size 640x480 with 2 Axes>"
            ],
            "image/png": "[encoded data removed]"
          },
          "metadata": {}
        }
      ]
    },
    {
      "cell_type": "markdown",
      "source": [
        "1-b. Apply PCA to S=(1/N)A^TA"
      ],
      "metadata": {
        "id": "linMUxDT_GaG"
      }
    },
    {
      "cell_type": "markdown",
      "source": [
        "We can get eigenvectors and eigenvalues of the matrix S=(1/N)A^TA in same way."
      ],
      "metadata": {
        "id": "3K6_XAOn_NGN"
      }
    },
    {
      "cell_type": "code",
      "source": [
        "from sklearn.preprocessing import normalize\n",
        "\n",
        "# Step 1: Center the data by subtracting the mean of each feature (column)\n",
        "mean = np.mean(X_train, axis=0)\n",
        "centered_data = X_train - mean\n",
        "\n",
        "# Step 2: Calculate the covariance matrix S=(1/N)A^TA\n",
        "covariance_matrix = np.dot(centered_data, centered_data.T)\n",
        "\n",
        "# Step 3: Perform eigenvalue decomposition on the covariance matrix\n",
        "eigenvalues, eigenvectors = np.linalg.eig(covariance_matrix)"
      ],
      "metadata": {
        "id": "si2vgS-W_MHR"
      },
      "execution_count": null,
      "outputs": []
    },
    {
      "cell_type": "markdown",
      "source": [
        "After dot product with centered data, we need to normalize all vectors."
      ],
      "metadata": {
        "id": "jGQjfkHG4EZJ"
      }
    },
    {
      "cell_type": "code",
      "source": [
        "eigenvectors = np.dot(centered_data.T, eigenvectors)\n",
        "\n",
        "# Iterate through each column (vector) and normalize it\n",
        "for i in range(eigenvectors.shape[1]):\n",
        "    vector = eigenvectors[:, i]  # Select the i-th column (vector)\n",
        "    eigenvectors[:, i] = vector / np.linalg.norm(vector)  # Update the matrix"
      ],
      "metadata": {
        "id": "jwD_3pCC4JBf"
      },
      "execution_count": null,
      "outputs": []
    },
    {
      "cell_type": "markdown",
      "source": [
        "Here, we can filter out eigenvalues like above."
      ],
      "metadata": {
        "id": "pihe7HPgAy6j"
      }
    },
    {
      "cell_type": "code",
      "source": [
        "# Step 4: Sort the eigenvectors by eigenvalues in descending order\n",
        "sorted_indices = np.argsort(eigenvalues)[::-1]\n",
        "eigenvalues = eigenvalues[sorted_indices]\n",
        "eigenvectors = eigenvectors[:, sorted_indices]\n",
        "\n",
        "# Step 5: Select the top k eigenvectors (where k is the number of desired components)\n",
        "# You can choose the number of components you want to retain (k) based on your requirements.\n",
        "# For example, if you want to reduce dimensionality, you can select a smaller k.\n",
        "k = 64  # Choose an appropriate value for k\n",
        "\n",
        "top_k_eigenvectors = eigenvectors[:, :k]\n",
        "\n",
        "print(top_k_eigenvectors)"
      ],
      "metadata": {
        "colab": {
          "base_uri": "https://localhost:8080/"
        },
        "id": "-fRzy0z3A20H",
        "outputId": "574a1fc5-ee13-4d47-bdd0-b66725f2cce7"
      },
      "execution_count": null,
      "outputs": [
        {
          "output_type": "stream",
          "name": "stdout",
          "text": [
            "[[-0.01326336 -0.01020421  0.02072975 ... -0.01904456 -0.01014906\n",
            "   0.01544591]\n",
            " [-0.014329   -0.00904605  0.02245547 ... -0.01678135  0.00774502\n",
            "  -0.00566642]\n",
            " [-0.0149903  -0.00676462  0.02520072 ... -0.01093418  0.02004609\n",
            "  -0.01595649]\n",
            " ...\n",
            " [ 0.00311901  0.04659409 -0.01288773 ... -0.01229174 -0.02025447\n",
            "   0.00588312]\n",
            " [ 0.00294199  0.04646237 -0.0129968  ... -0.0047351  -0.03800277\n",
            "   0.02213851]\n",
            " [ 0.00324892  0.04692097 -0.01524833 ...  0.00113813 -0.03246014\n",
            "   0.02552184]]\n"
          ]
        }
      ]
    },
    {
      "cell_type": "markdown",
      "source": [
        "Finally, we can project data into filtered eigenvectors to apply PCA."
      ],
      "metadata": {
        "id": "v51x19QeEJdX"
      }
    },
    {
      "cell_type": "code",
      "source": [
        "# Step 6: Project the centered data onto the top k eigenvectors to get the reduced-dimensional representation\n",
        "reduced_train_data = np.dot(centered_data, top_k_eigenvectors)\n",
        "\n",
        "print(reduced_train_data.shape)"
      ],
      "metadata": {
        "colab": {
          "base_uri": "https://localhost:8080/"
        },
        "id": "_Vxk_q4al-8d",
        "outputId": "8e9a3e59-3e8c-4740-afaa-72b68886af38"
      },
      "execution_count": null,
      "outputs": [
        {
          "output_type": "stream",
          "name": "stdout",
          "text": [
            "(416, 64)\n"
          ]
        }
      ]
    },
    {
      "cell_type": "code",
      "source": [
        "reconstructed_data = np.dot(reduced_train_data, top_k_eigenvectors.T) + mean\n",
        "\n",
        "reconstruction_error = np.mean(np.square(X_train - reconstructed_data))  # Calculate the mean squared reconstruction error\n",
        "\n",
        "# Print or use the reconstruction error as needed\n",
        "print(\"Reconstruction Error:\", reconstruction_error)"
      ],
      "metadata": {
        "colab": {
          "base_uri": "https://localhost:8080/"
        },
        "id": "3R3_EsyPImPt",
        "outputId": "ebb95970-754e-46df-d2ac-746e5067d7e8"
      },
      "execution_count": null,
      "outputs": [
        {
          "output_type": "stream",
          "name": "stdout",
          "text": [
            "Reconstruction Error: 175.90564507818965\n"
          ]
        }
      ]
    },
    {
      "cell_type": "code",
      "source": [
        "original_image = X_train[42]\n",
        "original_face = np.reshape(original_image,(46,56)).T\n",
        "\n",
        "reconstructed_image = reconstructed_data[42]\n",
        "reconstructed_face = np.reshape(reconstructed_image,(46,56)).T\n",
        "\n",
        "plt.subplot(121),plt.imshow(original_face, cmap = 'gist_gray')\n",
        "plt.title('original'), plt.xticks([]), plt.yticks([])\n",
        "\n",
        "plt.subplot(122),plt.imshow(reconstructed_face, cmap = 'gist_gray')\n",
        "plt.title('reconstructed'), plt.xticks([]), plt.yticks([])\n",
        "\n",
        "plt.show()"
      ],
      "metadata": {
        "colab": {
          "base_uri": "https://localhost:8080/",
          "height": 333
        },
        "id": "lwnjs4tDmD42",
        "outputId": "3e121291-4fa0-4913-8d47-f77f7c790938"
      },
      "execution_count": null,
      "outputs": [
        {
          "output_type": "display_data",
          "data": {
            "text/plain": [
              "<Figure size 640x480 with 2 Axes>"
            ],
            "image/png": "[encoded data removed]"
          },
          "metadata": {}
        }
      ]
    },
    {
      "cell_type": "markdown",
      "source": [
        "Let's plot the reconstruction error graph."
      ],
      "metadata": {
        "id": "FgFVIcSqmiW-"
      }
    },
    {
      "cell_type": "code",
      "source": [
        "number_of_basis_list = range(5, 416, 5)\n",
        "err_result = []\n",
        "\n",
        "# Step 1: Center the data by subtracting the mean of each feature (column)\n",
        "mean = np.mean(X_train, axis=0)\n",
        "centered_data = X_train - mean\n",
        "\n",
        "# Step 2: Calculate the covariance matrix S=(1/N)A^TA\n",
        "covariance_matrix = np.dot(centered_data, centered_data.T)\n",
        "\n",
        "# Step 3: Perform eigenvalue decomposition on the covariance matrix\n",
        "eigenvalues, eigenvectors = np.linalg.eig(covariance_matrix)\n",
        "\n",
        "eigenvectors = np.dot(centered_data.T, eigenvectors)\n",
        "\n",
        "# Iterate through each column (vector) and normalize it\n",
        "for i in range(eigenvectors.shape[1]):\n",
        "    vector = eigenvectors[:, i]  # Select the i-th column (vector)\n",
        "    eigenvectors[:, i] = vector / np.linalg.norm(vector)  # Update the matrix\n",
        "\n",
        "# Step 4: Sort the eigenvectors by eigenvalues in descending order\n",
        "sorted_indices = np.argsort(eigenvalues)[::-1]\n",
        "eigenvalues = eigenvalues[sorted_indices]\n",
        "eigenvectors = eigenvectors[:, sorted_indices]\n",
        "\n",
        "for number_of_basis in number_of_basis_list:\n",
        "  # Step 5: Select the top k eigenvectors (where k is the number of desired components)\n",
        "  # You can choose the number of components you want to retain (k) based on your requirements.\n",
        "  # For example, if you want to reduce dimensionality, you can select a smaller k.\n",
        "  k = number_of_basis  # Choose an appropriate value for k\n",
        "\n",
        "  top_k_eigenvectors = eigenvectors[:, :k]\n",
        "\n",
        "  # Step 6: Project the centered data onto the top k eigenvectors to get the reduced-dimensional representation\n",
        "  reduced_train_data = np.dot(centered_data, top_k_eigenvectors)\n",
        "\n",
        "  reconstructed_data = np.dot(reduced_train_data, top_k_eigenvectors.T) + mean\n",
        "\n",
        "  reconstruction_error = np.mean(np.square(X_train - reconstructed_data))  # Calculate the mean squared reconstruction error\n",
        "\n",
        "  # Print or use the reconstruction error as needed\n",
        "  print(\"Reconstruction Error:\", reconstruction_error)\n",
        "\n",
        "  err_result.append(reconstruction_error)"
      ],
      "metadata": {
        "colab": {
          "base_uri": "https://localhost:8080/"
        },
        "id": "C9A40tmtmiGe",
        "outputId": "c2fb6e74-6256-43e2-98f2-587c4c5bbebb"
      },
      "execution_count": null,
      "outputs": [
        {
          "output_type": "stream",
          "name": "stdout",
          "text": [
            "Reconstruction Error: 804.7408724885488\n",
            "Reconstruction Error: 583.1897287064417\n",
            "Reconstruction Error: 478.440810227424\n",
            "Reconstruction Error: 407.19024892490904\n",
            "Reconstruction Error: 357.1864169871268\n",
            "Reconstruction Error: 318.02636030042015\n",
            "Reconstruction Error: 285.6497576019632\n",
            "Reconstruction Error: 259.275497142063\n",
            "Reconstruction Error: 236.98797869685725\n",
            "Reconstruction Error: 217.76724416649859\n",
            "Reconstruction Error: 201.06018560613987\n",
            "Reconstruction Error: 186.45351556864478\n",
            "Reconstruction Error: 173.3964063464561\n",
            "Reconstruction Error: 161.74209814311956\n",
            "Reconstruction Error: 151.32998618245398\n",
            "Reconstruction Error: 141.7634365633528\n",
            "Reconstruction Error: 133.20315197063854\n",
            "Reconstruction Error: 125.39863201663692\n",
            "Reconstruction Error: 118.17765328827639\n",
            "Reconstruction Error: 111.54418776772863\n",
            "Reconstruction Error: 105.36630100316874\n",
            "Reconstruction Error: 99.63658853487568\n",
            "Reconstruction Error: 94.30478575707434\n",
            "Reconstruction Error: 89.2941786618061\n",
            "Reconstruction Error: 84.58344190614228\n",
            "Reconstruction Error: 80.1315540168485\n",
            "Reconstruction Error: 75.93794393577333\n",
            "Reconstruction Error: 71.99774080273204\n",
            "Reconstruction Error: 68.27479106695176\n",
            "Reconstruction Error: 64.760265961567\n",
            "Reconstruction Error: 61.429329530444434\n",
            "Reconstruction Error: 58.30718686599682\n",
            "Reconstruction Error: 55.352133497568076\n",
            "Reconstruction Error: 52.575311399817494\n",
            "Reconstruction Error: 49.920590511087674\n",
            "Reconstruction Error: 47.37465761556179\n",
            "Reconstruction Error: 44.97401817051427\n",
            "Reconstruction Error: 42.67846269534025\n",
            "Reconstruction Error: 40.49883335017058\n",
            "Reconstruction Error: 38.41355667411571\n",
            "Reconstruction Error: 36.43362208927681\n",
            "Reconstruction Error: 34.528801955474194\n",
            "Reconstruction Error: 32.7150954855349\n",
            "Reconstruction Error: 30.98965460792152\n",
            "Reconstruction Error: 29.35237534339358\n",
            "Reconstruction Error: 27.77608992406072\n",
            "Reconstruction Error: 26.258721088819613\n",
            "Reconstruction Error: 24.80511455039425\n",
            "Reconstruction Error: 23.416405945771\n",
            "Reconstruction Error: 22.0889656425745\n",
            "Reconstruction Error: 20.80645314007288\n",
            "Reconstruction Error: 19.57573514273079\n",
            "Reconstruction Error: 18.40241590705051\n",
            "Reconstruction Error: 17.280316704401628\n",
            "Reconstruction Error: 16.212576783666723\n",
            "Reconstruction Error: 15.19154083893596\n",
            "Reconstruction Error: 14.210907676081993\n",
            "Reconstruction Error: 13.274435763162456\n",
            "Reconstruction Error: 12.380492319353701\n",
            "Reconstruction Error: 11.524602583556806\n",
            "Reconstruction Error: 10.702063288224279\n",
            "Reconstruction Error: 9.913546444017435\n",
            "Reconstruction Error: 9.159510757464803\n",
            "Reconstruction Error: 8.441939482471554\n",
            "Reconstruction Error: 7.75738325954613\n",
            "Reconstruction Error: 7.104617846297716\n",
            "Reconstruction Error: 6.482562292199301\n",
            "Reconstruction Error: 5.887325597891955\n",
            "Reconstruction Error: 5.318714315432012\n",
            "Reconstruction Error: 4.777241337805246\n",
            "Reconstruction Error: 4.2598973209565525\n",
            "Reconstruction Error: 3.7692258914648007\n",
            "Reconstruction Error: 3.3007659126561326\n",
            "Reconstruction Error: 2.8522518291936327\n",
            "Reconstruction Error: 2.432079516344063\n",
            "Reconstruction Error: 2.0405079827929673\n",
            "Reconstruction Error: 1.6755710520905034\n",
            "Reconstruction Error: 1.3333920484284933\n",
            "Reconstruction Error: 1.0126959237749777\n",
            "Reconstruction Error: 0.712971718169458\n",
            "Reconstruction Error: 0.4390089019955336\n",
            "Reconstruction Error: 0.19616638152440719\n",
            "Reconstruction Error: 7.700863096387435e-23\n"
          ]
        }
      ]
    },
    {
      "cell_type": "code",
      "source": [
        "plt.plot(number_of_basis_list, err_result)\n",
        "\n",
        "plt.ylabel('Reconstruction Error')\n",
        "plt.xlabel('PCA')\n",
        "\n",
        "plt.show()"
      ],
      "metadata": {
        "colab": {
          "base_uri": "https://localhost:8080/",
          "height": 449
        },
        "id": "K2fcgPrUnC3n",
        "outputId": "e009db07-c1d2-4951-e365-aeff1a1c5a60"
      },
      "execution_count": null,
      "outputs": [
        {
          "output_type": "display_data",
          "data": {
            "text/plain": [
              "<Figure size 640x480 with 1 Axes>"
            ],
            "image/png": "[encoded data removed]"
          },
          "metadata": {}
        }
      ]
    },
    {
      "cell_type": "markdown",
      "source": [
        "# Application of Eigenfaces"
      ],
      "metadata": {
        "id": "SwmyI5rLcQe5"
      }
    },
    {
      "cell_type": "markdown",
      "source": [
        "From the data partition above, let us perform the face image reconstruction using PCA bases learnt."
      ],
      "metadata": {
        "id": "uReUNgnBcXWt"
      }
    },
    {
      "cell_type": "code",
      "source": [
        "# Project the centered data onto the top k eigenvectors to get the reduced-dimensional representation\n",
        "reduced_test_data = np.dot(X_test - mean, top_k_eigenvectors)\n",
        "\n",
        "reconstructed_data = np.dot(reduced_test_data, top_k_eigenvectors.T) + mean\n",
        "\n",
        "reconstruction_error = np.mean(np.square(X_test - reconstructed_data))  # Calculate the mean squared reconstruction error\n",
        "\n",
        "# Print or use the reconstruction error as needed\n",
        "print(\"Reconstruction Error:\", reconstruction_error)"
      ],
      "metadata": {
        "colab": {
          "base_uri": "https://localhost:8080/"
        },
        "id": "jBFOMNBydPit",
        "outputId": "0d7d50da-7ee6-4e83-e404-b4c6896b111d"
      },
      "execution_count": null,
      "outputs": [
        {
          "output_type": "stream",
          "name": "stdout",
          "text": [
            "Reconstruction Error: 97.7496606540799\n"
          ]
        }
      ]
    },
    {
      "cell_type": "markdown",
      "source": [
        "Let's see an example of reconstruction result."
      ],
      "metadata": {
        "id": "v7ot2zInmfms"
      }
    },
    {
      "cell_type": "code",
      "source": [
        "original_image = X_test[42]\n",
        "original_face = np.reshape(original_image,(46,56)).T\n",
        "\n",
        "reconstructed_image = reconstructed_data[42]\n",
        "reconstructed_face = np.reshape(reconstructed_image,(46,56)).T\n",
        "\n",
        "plt.subplot(121),plt.imshow(original_face, cmap = 'gist_gray')\n",
        "plt.title('original'), plt.xticks([]), plt.yticks([])\n",
        "\n",
        "plt.subplot(122),plt.imshow(reconstructed_face, cmap = 'gist_gray')\n",
        "plt.title('reconstructed'), plt.xticks([]), plt.yticks([])\n",
        "\n",
        "plt.show()"
      ],
      "metadata": {
        "colab": {
          "base_uri": "https://localhost:8080/",
          "height": 333
        },
        "id": "gpruVkvkmk4P",
        "outputId": "fe214fa4-6428-48c9-f741-8c366f39c6b9"
      },
      "execution_count": null,
      "outputs": [
        {
          "output_type": "display_data",
          "data": {
            "text/plain": [
              "<Figure size 640x480 with 2 Axes>"
            ],
            "image/png": "[encoded data removed]"
          },
          "metadata": {}
        }
      ]
    },
    {
      "cell_type": "code",
      "source": [
        "original_image = X_test[13]\n",
        "original_face = np.reshape(original_image,(46,56)).T\n",
        "\n",
        "reconstructed_image = reconstructed_data[13]\n",
        "reconstructed_face = np.reshape(reconstructed_image,(46,56)).T\n",
        "\n",
        "plt.subplot(121),plt.imshow(original_face, cmap = 'gist_gray')\n",
        "plt.title('original'), plt.xticks([]), plt.yticks([])\n",
        "\n",
        "plt.subplot(122),plt.imshow(reconstructed_face, cmap = 'gist_gray')\n",
        "plt.title('reconstructed'), plt.xticks([]), plt.yticks([])\n",
        "\n",
        "plt.show()"
      ],
      "metadata": {
        "colab": {
          "base_uri": "https://localhost:8080/",
          "height": 333
        },
        "id": "Sqxz_fZGpj8M",
        "outputId": "a45497f4-fdce-4071-e735-73051dd7b52a"
      },
      "execution_count": null,
      "outputs": [
        {
          "output_type": "display_data",
          "data": {
            "text/plain": [
              "<Figure size 640x480 with 2 Axes>"
            ],
            "image/png": "[encoded data removed]"
          },
          "metadata": {}
        }
      ]
    },
    {
      "cell_type": "markdown",
      "source": [
        "We can train KNN classifier with PCA results."
      ],
      "metadata": {
        "id": "dgrW24199QdV"
      }
    },
    {
      "cell_type": "code",
      "source": [
        "# KNN Classifer\n",
        "from sklearn.neighbors import KNeighborsClassifier"
      ],
      "metadata": {
        "id": "_PJCtxEBKp5c"
      },
      "execution_count": null,
      "outputs": []
    },
    {
      "cell_type": "code",
      "source": [
        "number_of_basis = 335\n",
        "\n",
        "# Step 1: Center the data by subtracting the mean of each feature (column)\n",
        "mean = np.mean(X_train, axis=0)\n",
        "centered_data = X_train - mean\n",
        "\n",
        "# Step 2: Calculate the covariance matrix S=(1/N)A^TA\n",
        "covariance_matrix = np.dot(centered_data, centered_data.T)\n",
        "\n",
        "# Step 3: Perform eigenvalue decomposition on the covariance matrix\n",
        "eigenvalues, eigenvectors = np.linalg.eig(covariance_matrix)\n",
        "\n",
        "eigenvectors = np.dot(centered_data.T, eigenvectors)\n",
        "\n",
        "# Iterate through each column (vector) and normalize it\n",
        "for i in range(eigenvectors.shape[1]):\n",
        "    vector = eigenvectors[:, i]  # Select the i-th column (vector)\n",
        "    eigenvectors[:, i] = vector / np.linalg.norm(vector)  # Update the matrix\n",
        "\n",
        "# Step 4: Sort the eigenvectors by eigenvalues in descending order\n",
        "sorted_indices = np.argsort(eigenvalues)[::-1]\n",
        "eigenvalues = eigenvalues[sorted_indices]\n",
        "eigenvectors = eigenvectors[:, sorted_indices]\n",
        "\n",
        "# Step 5: Select the top k eigenvectors (where k is the number of desired components)\n",
        "# You can choose the number of components you want to retain (k) based on your requirements.\n",
        "# For example, if you want to reduce dimensionality, you can select a smaller k.\n",
        "k = number_of_basis  # Choose an appropriate value for k\n",
        "\n",
        "top_k_eigenvectors = eigenvectors[:, :k]\n",
        "\n",
        "# Step 6: Project the centered data onto the top k eigenvectors to get the reduced-dimensional representation\n",
        "reduced_train_data = np.dot(centered_data, top_k_eigenvectors)\n",
        "reduced_test_data = np.dot(X_test - mean, top_k_eigenvectors)\n",
        "\n",
        "# train KNN with reduced data set\n",
        "nn = KNeighborsClassifier(n_neighbors=1)\n",
        "nn.fit(reduced_train_data, y_train.T.ravel())\n",
        "\n",
        "# test with trained KNN\n",
        "acc = nn.score(reduced_test_data, y_test.T.ravel())\n",
        "\n",
        "print(\"Test Accuracy: \", acc)"
      ],
      "metadata": {
        "id": "JdiB8_w89QHf",
        "colab": {
          "base_uri": "https://localhost:8080/"
        },
        "outputId": "570d4b14-60b8-4fb0-fac8-91d0bd5efa8d"
      },
      "execution_count": null,
      "outputs": [
        {
          "output_type": "stream",
          "name": "stdout",
          "text": [
            "Test Accuracy:  0.6057692307692307\n"
          ]
        }
      ]
    },
    {
      "cell_type": "markdown",
      "source": [
        "Here we can get confusion matrix report."
      ],
      "metadata": {
        "id": "rphaXHWM9PgH"
      }
    },
    {
      "cell_type": "code",
      "source": [
        "from sklearn.metrics import confusion_matrix\n",
        "import itertools\n",
        "import matplotlib.pyplot as plt\n",
        "\n",
        "y_pred = nn.predict(reduced_test_data)\n",
        "cfn_matrix = confusion_matrix(y_test, y_pred)\n",
        "\n",
        "plt.matshow(cfn_matrix, cmap = 'Blues')\n",
        "\n",
        "plt.colorbar()\n",
        "plt.ylabel('Actual')\n",
        "plt.xlabel('Predicted')\n",
        "\n",
        "plt.show()"
      ],
      "metadata": {
        "colab": {
          "base_uri": "https://localhost:8080/",
          "height": 422
        },
        "id": "WOIFN2Im9TE8",
        "outputId": "8953503e-70a5-4568-ae4b-430fd290de82"
      },
      "execution_count": null,
      "outputs": [
        {
          "output_type": "display_data",
          "data": {
            "text/plain": [
              "<Figure size 480x480 with 2 Axes>"
            ],
            "image/png": "[encoded data removed]"
          },
          "metadata": {}
        }
      ]
    },
    {
      "cell_type": "markdown",
      "source": [
        "We will vary number of basis to get insights from the experiment."
      ],
      "metadata": {
        "id": "ZKBIToH--hxj"
      }
    },
    {
      "cell_type": "code",
      "source": [
        "import time"
      ],
      "metadata": {
        "id": "26xf-wGUXI7d"
      },
      "execution_count": null,
      "outputs": []
    },
    {
      "cell_type": "code",
      "source": [
        "number_of_basis_list = range(5, 416, 5)\n",
        "accuracy_result = []\n",
        "time_cosume_result = []\n",
        "\n",
        "# Step 1: Center the data by subtracting the mean of each feature (column)\n",
        "mean = np.mean(X_train, axis=0)\n",
        "centered_data = X_train - mean\n",
        "\n",
        "# Step 2: Calculate the covariance matrix S=(1/N)A^TA\n",
        "covariance_matrix = np.dot(centered_data, centered_data.T)\n",
        "\n",
        "# Step 3: Perform eigenvalue decomposition on the covariance matrix\n",
        "eigenvalues, eigenvectors = np.linalg.eig(covariance_matrix)\n",
        "\n",
        "eigenvectors = np.dot(centered_data.T, eigenvectors)\n",
        "\n",
        "# Iterate through each column (vector) and normalize it\n",
        "for i in range(eigenvectors.shape[1]):\n",
        "    vector = eigenvectors[:, i]  # Select the i-th column (vector)\n",
        "    eigenvectors[:, i] = vector / np.linalg.norm(vector)  # Update the matrix\n",
        "\n",
        "# Step 4: Sort the eigenvectors by eigenvalues in descending order\n",
        "sorted_indices = np.argsort(eigenvalues)[::-1]\n",
        "eigenvalues = eigenvalues[sorted_indices]\n",
        "eigenvectors = eigenvectors[:, sorted_indices]\n",
        "\n",
        "for number_of_basis in number_of_basis_list:\n",
        "  # Step 5: Select the top k eigenvectors (where k is the number of desired components)\n",
        "  # You can choose the number of components you want to retain (k) based on your requirements.\n",
        "  # For example, if you want to reduce dimensionality, you can select a smaller k.\n",
        "  k = number_of_basis  # Choose an appropriate value for k\n",
        "\n",
        "  top_k_eigenvectors = eigenvectors[:, :k]\n",
        "\n",
        "  # Step 6: Project the centered data onto the top k eigenvectors to get the reduced-dimensional representation\n",
        "  reduced_train_data = np.dot(centered_data, top_k_eigenvectors)\n",
        "  reduced_test_data = np.dot(X_test - mean, top_k_eigenvectors)\n",
        "\n",
        "  start_time = time.time()\n",
        "\n",
        "  # train KNN with reduced data set\n",
        "  nn = KNeighborsClassifier(n_neighbors=1)\n",
        "  nn.fit(reduced_train_data, y_train.T.ravel())\n",
        "\n",
        "  end_time = time.time()\n",
        "\n",
        "  # test with trained KNN\n",
        "  acc = nn.score(reduced_test_data, y_test.T.ravel())\n",
        "\n",
        "  print(\"Test Accuracy: \", acc)\n",
        "\n",
        "  accuracy_result.append(acc)\n",
        "\n",
        "  print(\"train time consumed: \", end_time - start_time)\n",
        "\n",
        "  time_cosume_result.append(end_time - start_time)"
      ],
      "metadata": {
        "colab": {
          "base_uri": "https://localhost:8080/"
        },
        "id": "_bFTAgxMNhaX",
        "outputId": "042543d4-8cd2-4182-cf6d-9d6c133fdb6e"
      },
      "execution_count": null,
      "outputs": [
        {
          "output_type": "stream",
          "name": "stdout",
          "text": [
            "Test Accuracy:  0.3557692307692308\n",
            "train time consumed:  0.0016021728515625\n",
            "Test Accuracy:  0.3557692307692308\n",
            "train time consumed:  0.0016181468963623047\n",
            "Test Accuracy:  0.49038461538461536\n",
            "train time consumed:  0.0017025470733642578\n",
            "Test Accuracy:  0.5096153846153846\n",
            "train time consumed:  0.001010894775390625\n",
            "Test Accuracy:  0.5288461538461539\n",
            "train time consumed:  0.0011768341064453125\n",
            "Test Accuracy:  0.5288461538461539\n",
            "train time consumed:  0.0010745525360107422\n",
            "Test Accuracy:  0.5384615384615384\n",
            "train time consumed:  0.0011851787567138672\n",
            "Test Accuracy:  0.5384615384615384\n",
            "train time consumed:  0.0009260177612304688\n",
            "Test Accuracy:  0.5576923076923077\n",
            "train time consumed:  0.0010542869567871094\n",
            "Test Accuracy:  0.5576923076923077\n",
            "train time consumed:  0.0010576248168945312\n",
            "Test Accuracy:  0.5576923076923077\n",
            "train time consumed:  0.0010945796966552734\n",
            "Test Accuracy:  0.5865384615384616\n",
            "train time consumed:  0.0009732246398925781\n",
            "Test Accuracy:  0.5769230769230769\n",
            "train time consumed:  0.001096487045288086\n",
            "Test Accuracy:  0.5769230769230769\n",
            "train time consumed:  0.0011138916015625\n",
            "Test Accuracy:  0.5769230769230769\n",
            "train time consumed:  0.0011267662048339844\n",
            "Test Accuracy:  0.5769230769230769\n",
            "train time consumed:  0.0013759136199951172\n",
            "Test Accuracy:  0.5865384615384616\n",
            "train time consumed:  0.0011906623840332031\n",
            "Test Accuracy:  0.5865384615384616\n",
            "train time consumed:  0.0011677742004394531\n",
            "Test Accuracy:  0.5865384615384616\n",
            "train time consumed:  0.001468658447265625\n",
            "Test Accuracy:  0.5865384615384616\n",
            "train time consumed:  0.0011315345764160156\n",
            "Test Accuracy:  0.5865384615384616\n",
            "train time consumed:  0.0011246204376220703\n",
            "Test Accuracy:  0.5769230769230769\n",
            "train time consumed:  0.0010142326354980469\n",
            "Test Accuracy:  0.5769230769230769\n",
            "train time consumed:  0.0009741783142089844\n",
            "Test Accuracy:  0.5769230769230769\n",
            "train time consumed:  0.0011081695556640625\n",
            "Test Accuracy:  0.5769230769230769\n",
            "train time consumed:  0.0011975765228271484\n",
            "Test Accuracy:  0.5769230769230769\n",
            "train time consumed:  0.0011615753173828125\n",
            "Test Accuracy:  0.5769230769230769\n",
            "train time consumed:  0.0011544227600097656\n",
            "Test Accuracy:  0.5769230769230769\n",
            "train time consumed:  0.001199483871459961\n",
            "Test Accuracy:  0.5769230769230769\n",
            "train time consumed:  0.0011372566223144531\n",
            "Test Accuracy:  0.5769230769230769\n",
            "train time consumed:  0.0011594295501708984\n",
            "Test Accuracy:  0.5673076923076923\n",
            "train time consumed:  0.0011937618255615234\n",
            "Test Accuracy:  0.5673076923076923\n",
            "train time consumed:  0.0011839866638183594\n",
            "Test Accuracy:  0.5673076923076923\n",
            "train time consumed:  0.0011606216430664062\n",
            "Test Accuracy:  0.5673076923076923\n",
            "train time consumed:  0.0011687278747558594\n",
            "Test Accuracy:  0.5673076923076923\n",
            "train time consumed:  0.0011823177337646484\n",
            "Test Accuracy:  0.5673076923076923\n",
            "train time consumed:  0.0012123584747314453\n",
            "Test Accuracy:  0.5673076923076923\n",
            "train time consumed:  0.0011866092681884766\n",
            "Test Accuracy:  0.5673076923076923\n",
            "train time consumed:  0.001306295394897461\n",
            "Test Accuracy:  0.5673076923076923\n",
            "train time consumed:  0.0012671947479248047\n",
            "Test Accuracy:  0.5769230769230769\n",
            "train time consumed:  0.0012023448944091797\n",
            "Test Accuracy:  0.5865384615384616\n",
            "train time consumed:  0.0012295246124267578\n",
            "Test Accuracy:  0.5865384615384616\n",
            "train time consumed:  0.001196146011352539\n",
            "Test Accuracy:  0.5865384615384616\n",
            "train time consumed:  0.0012257099151611328\n",
            "Test Accuracy:  0.5865384615384616\n",
            "train time consumed:  0.0011982917785644531\n",
            "Test Accuracy:  0.5865384615384616\n",
            "train time consumed:  0.0012404918670654297\n",
            "Test Accuracy:  0.5865384615384616\n",
            "train time consumed:  0.0012233257293701172\n",
            "Test Accuracy:  0.5865384615384616\n",
            "train time consumed:  0.0012326240539550781\n",
            "Test Accuracy:  0.5865384615384616\n",
            "train time consumed:  0.0012247562408447266\n",
            "Test Accuracy:  0.5865384615384616\n",
            "train time consumed:  0.0012669563293457031\n",
            "Test Accuracy:  0.5865384615384616\n",
            "train time consumed:  0.0012810230255126953\n",
            "Test Accuracy:  0.5865384615384616\n",
            "train time consumed:  0.0012218952178955078\n",
            "Test Accuracy:  0.5865384615384616\n",
            "train time consumed:  0.0012471675872802734\n",
            "Test Accuracy:  0.5961538461538461\n",
            "train time consumed:  0.0014338493347167969\n",
            "Test Accuracy:  0.5865384615384616\n",
            "train time consumed:  0.001255035400390625\n",
            "Test Accuracy:  0.5865384615384616\n",
            "train time consumed:  0.0012400150299072266\n",
            "Test Accuracy:  0.5961538461538461\n",
            "train time consumed:  0.0012395381927490234\n",
            "Test Accuracy:  0.5961538461538461\n",
            "train time consumed:  0.001447439193725586\n",
            "Test Accuracy:  0.5961538461538461\n",
            "train time consumed:  0.0013363361358642578\n",
            "Test Accuracy:  0.5961538461538461\n",
            "train time consumed:  0.0012319087982177734\n",
            "Test Accuracy:  0.5961538461538461\n",
            "train time consumed:  0.0012874603271484375\n",
            "Test Accuracy:  0.5961538461538461\n",
            "train time consumed:  0.0012979507446289062\n",
            "Test Accuracy:  0.5961538461538461\n",
            "train time consumed:  0.0012505054473876953\n",
            "Test Accuracy:  0.5961538461538461\n",
            "train time consumed:  0.0013036727905273438\n",
            "Test Accuracy:  0.5961538461538461\n",
            "train time consumed:  0.001332998275756836\n",
            "Test Accuracy:  0.5961538461538461\n",
            "train time consumed:  0.001260519027709961\n",
            "Test Accuracy:  0.5961538461538461\n",
            "train time consumed:  0.001257181167602539\n",
            "Test Accuracy:  0.6057692307692307\n",
            "train time consumed:  0.0013041496276855469\n",
            "Test Accuracy:  0.6057692307692307\n",
            "train time consumed:  0.0012552738189697266\n",
            "Test Accuracy:  0.6057692307692307\n",
            "train time consumed:  0.001299142837524414\n",
            "Test Accuracy:  0.6057692307692307\n",
            "train time consumed:  0.0013136863708496094\n",
            "Test Accuracy:  0.6057692307692307\n",
            "train time consumed:  0.0013058185577392578\n",
            "Test Accuracy:  0.6057692307692307\n",
            "train time consumed:  0.0013422966003417969\n",
            "Test Accuracy:  0.6057692307692307\n",
            "train time consumed:  0.0013132095336914062\n",
            "Test Accuracy:  0.6057692307692307\n",
            "train time consumed:  0.001285552978515625\n",
            "Test Accuracy:  0.6057692307692307\n",
            "train time consumed:  0.0013256072998046875\n",
            "Test Accuracy:  0.6057692307692307\n",
            "train time consumed:  0.0013391971588134766\n",
            "Test Accuracy:  0.6057692307692307\n",
            "train time consumed:  0.0013201236724853516\n",
            "Test Accuracy:  0.6057692307692307\n",
            "train time consumed:  0.0013685226440429688\n",
            "Test Accuracy:  0.6057692307692307\n",
            "train time consumed:  0.007193326950073242\n",
            "Test Accuracy:  0.6057692307692307\n",
            "train time consumed:  0.0013818740844726562\n",
            "Test Accuracy:  0.6057692307692307\n",
            "train time consumed:  0.0013642311096191406\n",
            "Test Accuracy:  0.6057692307692307\n",
            "train time consumed:  0.0015234947204589844\n",
            "Test Accuracy:  0.6057692307692307\n",
            "train time consumed:  0.0016045570373535156\n"
          ]
        }
      ]
    },
    {
      "cell_type": "markdown",
      "source": [
        "And we can find maximum accuracy from the test."
      ],
      "metadata": {
        "id": "XV1H8XwiNW5R"
      }
    },
    {
      "cell_type": "code",
      "source": [
        "# Find the index of the maximum accuracy value\n",
        "max_A_index = np.argmax(accuracy_result)\n",
        "\n",
        "# Find the corresponding (K, D) pair for the maximum A\n",
        "max_K = number_of_basis_list[max_A_index]\n",
        "max_T = time_cosume_result[max_A_index]\n",
        "max_A = accuracy_result[max_A_index]\n",
        "\n",
        "print(f\"Maximum A: {max_A}\")\n",
        "print(f\"Corresponding (K, D) pair: ({max_K}, {max_T})\")"
      ],
      "metadata": {
        "colab": {
          "base_uri": "https://localhost:8080/"
        },
        "id": "nkTw_7bvNZ4r",
        "outputId": "084853f2-fa8e-4bf3-cf25-f40b969f7ffd"
      },
      "execution_count": null,
      "outputs": [
        {
          "output_type": "stream",
          "name": "stdout",
          "text": [
            "Maximum A: 0.6057692307692307\n",
            "Corresponding (K, D) pair: (335, 0.0013041496276855469)\n"
          ]
        }
      ]
    },
    {
      "cell_type": "markdown",
      "source": [
        "Let's see corresponding result graphs."
      ],
      "metadata": {
        "id": "FyQlyvWvX-bp"
      }
    },
    {
      "cell_type": "code",
      "source": [
        "plt.plot(number_of_basis_list, accuracy_result)\n",
        "\n",
        "plt.ylabel('Accuracy')\n",
        "plt.xlabel('PCA')\n",
        "\n",
        "plt.show()"
      ],
      "metadata": {
        "colab": {
          "base_uri": "https://localhost:8080/",
          "height": 449
        },
        "id": "PyfPUyV6YG9B",
        "outputId": "418825ca-2263-4cb1-b0d3-4b338c0c1d65"
      },
      "execution_count": null,
      "outputs": [
        {
          "output_type": "display_data",
          "data": {
            "text/plain": [
              "<Figure size 640x480 with 1 Axes>"
            ],
            "image/png": "[encoded data removed]"
          },
          "metadata": {}
        }
      ]
    },
    {
      "cell_type": "code",
      "source": [
        "plt.plot(number_of_basis_list, time_cosume_result)\n",
        "\n",
        "plt.ylabel('Time (sec)')\n",
        "plt.xlabel('PCA')\n",
        "\n",
        "plt.show()"
      ],
      "metadata": {
        "colab": {
          "base_uri": "https://localhost:8080/",
          "height": 449
        },
        "id": "sFM8AnuSaD5K",
        "outputId": "c8f7630c-8f02-4110-9b04-46308ee571d4"
      },
      "execution_count": null,
      "outputs": [
        {
          "output_type": "display_data",
          "data": {
            "text/plain": [
              "<Figure size 640x480 with 1 Axes>"
            ],
            "image/png": "[encoded data removed]"
          },
          "metadata": {}
        }
      ]
    },
    {
      "cell_type": "markdown",
      "source": [
        "Finally, let's find some example success / failure cases."
      ],
      "metadata": {
        "id": "W_aeFEZnasV9"
      }
    },
    {
      "cell_type": "code",
      "source": [
        "# find success case\n",
        "for index in range(len(number_of_basis_list)):\n",
        "  if y_test[index] == y_pred[index]:\n",
        "    original_image = X_test[index]\n",
        "    original_face = np.reshape(original_image,(46,56)).T\n",
        "\n",
        "    plt.subplot(121),plt.imshow(original_face, cmap = 'gist_gray')\n",
        "    plt.title('original: %d, predict: %d' % (y_test[index], y_pred[index])), plt.xticks([]), plt.yticks([])\n",
        "    break\n",
        "\n",
        "# find failure case\n",
        "for index in range(len(number_of_basis_list)):\n",
        "  if y_test[index] != y_pred[index]:\n",
        "    original_image = X_test[index]\n",
        "    original_face = np.reshape(original_image,(46,56)).T\n",
        "\n",
        "    plt.subplot(122),plt.imshow(original_face, cmap = 'gist_gray')\n",
        "    plt.title('original: %d, predict: %d' % (y_test[index], y_pred[index])), plt.xticks([]), plt.yticks([])\n",
        "    break\n",
        "\n",
        "plt.show()"
      ],
      "metadata": {
        "colab": {
          "base_uri": "https://localhost:8080/",
          "height": 333
        },
        "id": "q-GJ6i7Lay5K",
        "outputId": "99de9e0f-eba8-45bb-dbe4-0a8096334a44"
      },
      "execution_count": null,
      "outputs": [
        {
          "output_type": "display_data",
          "data": {
            "text/plain": [
              "<Figure size 640x480 with 2 Axes>"
            ],
            "image/png": "[encoded data removed]"
          },
          "metadata": {}
        }
      ]
    },
    {
      "cell_type": "markdown",
      "source": [
        "# Incremental PCA"
      ],
      "metadata": {
        "id": "QY04Gd30z8aS"
      }
    },
    {
      "cell_type": "markdown",
      "source": [
        "Here now we will try incremental PCA to reduce overfitting. Start from dividing train set into 4."
      ],
      "metadata": {
        "id": "a7Unirq57DjK"
      }
    },
    {
      "cell_type": "code",
      "source": [
        "number_of_basis = 335\n",
        "\n",
        "# Step 1: Center the data by subtracting the mean of each feature (column)\n",
        "mean = np.mean(X_train, axis=0)\n",
        "centered_data = X_train - mean\n",
        "\n",
        "# Step 2: Calculate the covariance matrix S=(1/N)A^TA\n",
        "covariance_matrix = np.dot(centered_data, centered_data.T)\n",
        "\n",
        "# Step 3: Perform eigenvalue decomposition on the covariance matrix\n",
        "eigenvalues, eigenvectors = np.linalg.eig(covariance_matrix)\n",
        "\n",
        "eigenvectors = np.dot(centered_data.T, eigenvectors)\n",
        "\n",
        "# Iterate through each column (vector) and normalize it\n",
        "for i in range(eigenvectors.shape[1]):\n",
        "    vector = eigenvectors[:, i]  # Select the i-th column (vector)\n",
        "    eigenvectors[:, i] = vector / np.linalg.norm(vector)  # Update the matrix\n",
        "\n",
        "# Step 4: Sort the eigenvectors by eigenvalues in descending order\n",
        "sorted_indices = np.argsort(eigenvalues)[::-1]\n",
        "eigenvalues = eigenvalues[sorted_indices]\n",
        "eigenvectors = eigenvectors[:, sorted_indices]\n",
        "\n",
        "# Step 5: Select the top k eigenvectors (where k is the number of desired components)\n",
        "# You can choose the number of components you want to retain (k) based on your requirements.\n",
        "# For example, if you want to reduce dimensionality, you can select a smaller k.\n",
        "k = number_of_basis  # Choose an appropriate value for k\n",
        "\n",
        "top_k_eigenvectors = eigenvectors[:, :k]\n",
        "\n",
        "# Step 6: Project the centered data onto the top k eigenvectors to get the reduced-dimensional representation\n",
        "reduced_train_data = np.dot(centered_data, top_k_eigenvectors)\n",
        "reduced_test_data = np.dot(X_test - mean, top_k_eigenvectors)"
      ],
      "metadata": {
        "id": "RopWaqEudNZY"
      },
      "execution_count": null,
      "outputs": []
    },
    {
      "cell_type": "code",
      "source": [
        "# Train the model incrementally on each subset\n",
        "for index in range(1, 5):\n",
        "  # Split the training data into four subsets\n",
        "  subset_size = (len(reduced_train_data) // 4) * index\n",
        "  subsets = reduced_train_data[:subset_size]\n",
        "  subset_labels = y_train[:subset_size]\n",
        "\n",
        "  # train KNN with reduced data set\n",
        "  nn = KNeighborsClassifier(n_neighbors=1)\n",
        "\n",
        "  print(f\"Training on Subset {i + 1}...\")\n",
        "  nn.fit(subsets, subset_labels.T.ravel())\n",
        "\n",
        "  # Evaluate the model on the test data after each subset\n",
        "  test_accuracy = nn.score(reduced_test_data, y_test.T.ravel())\n",
        "  print(f'Test accuracy after Subset {i + 1}: {test_accuracy}')"
      ],
      "metadata": {
        "colab": {
          "base_uri": "https://localhost:8080/"
        },
        "id": "ICiT_V7QM7AU",
        "outputId": "c1b13443-6e96-45bf-ff11-225c30ccdc8b"
      },
      "execution_count": null,
      "outputs": [
        {
          "output_type": "stream",
          "name": "stdout",
          "text": [
            "Training on Subset 416...\n",
            "Test accuracy after Subset 416: 0.28846153846153844\n",
            "Training on Subset 416...\n",
            "Test accuracy after Subset 416: 0.3942307692307692\n",
            "Training on Subset 416...\n",
            "Test accuracy after Subset 416: 0.5192307692307693\n",
            "Training on Subset 416...\n",
            "Test accuracy after Subset 416: 0.6057692307692307\n"
          ]
        }
      ]
    },
    {
      "cell_type": "markdown",
      "source": [
        "We performed incremental PCA, so let's vary inputs to find some results."
      ],
      "metadata": {
        "id": "BVVq6kHHNpu4"
      }
    },
    {
      "cell_type": "code",
      "source": [
        "number_of_basis_list = range(5, 416, 5)\n",
        "accuracy_result_incremental = []\n",
        "time_cosume_result_incremental = []\n",
        "\n",
        "# Step 1: Center the data by subtracting the mean of each feature (column)\n",
        "mean = np.mean(X_train, axis=0)\n",
        "centered_data = X_train - mean\n",
        "\n",
        "# Step 2: Calculate the covariance matrix S=(1/N)A^TA\n",
        "covariance_matrix = np.dot(centered_data, centered_data.T)\n",
        "\n",
        "# Step 3: Perform eigenvalue decomposition on the covariance matrix\n",
        "eigenvalues, eigenvectors = np.linalg.eig(covariance_matrix)\n",
        "\n",
        "eigenvectors = np.dot(centered_data.T, eigenvectors)\n",
        "\n",
        "# Iterate through each column (vector) and normalize it\n",
        "for i in range(eigenvectors.shape[1]):\n",
        "    vector = eigenvectors[:, i]  # Select the i-th column (vector)\n",
        "    eigenvectors[:, i] = vector / np.linalg.norm(vector)  # Update the matrix\n",
        "\n",
        "# Step 4: Sort the eigenvectors by eigenvalues in descending order\n",
        "sorted_indices = np.argsort(eigenvalues)[::-1]\n",
        "eigenvalues = eigenvalues[sorted_indices]\n",
        "eigenvectors = eigenvectors[:, sorted_indices]\n",
        "\n",
        "for number_of_basis in number_of_basis_list:\n",
        "  # Step 5: Select the top k eigenvectors (where k is the number of desired components)\n",
        "  # You can choose the number of components you want to retain (k) based on your requirements.\n",
        "  # For example, if you want to reduce dimensionality, you can select a smaller k.\n",
        "  k = number_of_basis  # Choose an appropriate value for k\n",
        "\n",
        "  top_k_eigenvectors = eigenvectors[:, :k]\n",
        "\n",
        "  # Step 6: Project the centered data onto the top k eigenvectors to get the reduced-dimensional representation\n",
        "  reduced_train_data = np.dot(centered_data, top_k_eigenvectors)\n",
        "  reduced_test_data = np.dot(X_test - mean, top_k_eigenvectors)\n",
        "\n",
        "  time_consume = 0\n",
        "\n",
        "  # Train the model incrementally on each subset\n",
        "  for index in range(1, 5):\n",
        "    # Split the training data into four subsets\n",
        "    subset_size = (len(reduced_train_data) // 4) * index\n",
        "    subsets = reduced_train_data[:subset_size]\n",
        "    subset_labels = y_train[:subset_size]\n",
        "\n",
        "    # train KNN with reduced data set\n",
        "    nn = KNeighborsClassifier(n_neighbors=1)\n",
        "\n",
        "    start_time = time.time()\n",
        "\n",
        "    print(f\"Training on Subset {index}...\")\n",
        "    nn.fit(subsets, subset_labels.T.ravel())\n",
        "\n",
        "    end_time = time.time()\n",
        "\n",
        "    # Evaluate the model on the test data after each subset\n",
        "    test_accuracy = nn.score(reduced_test_data, y_test.T.ravel())\n",
        "    print(f'Test accuracy after Subset {index}: {test_accuracy}')\n",
        "\n",
        "    time_consume += end_time - start_time\n",
        "\n",
        "  # test with trained KNN\n",
        "  acc = nn.score(reduced_test_data, y_test.T.ravel())\n",
        "\n",
        "  print(\"Test Accuracy: \", acc)\n",
        "\n",
        "  accuracy_result_incremental.append(acc)\n",
        "\n",
        "  print(\"train time consumed: \", time_consume)\n",
        "\n",
        "  time_cosume_result_incremental.append(time_consume)"
      ],
      "metadata": {
        "colab": {
          "base_uri": "https://localhost:8080/"
        },
        "id": "usG2lVhzNyXP",
        "outputId": "07d9d2e3-dac4-4f09-98a6-4d8a45d71408"
      },
      "execution_count": null,
      "outputs": [
        {
          "output_type": "stream",
          "name": "stdout",
          "text": [
            "Training on Subset 1...\n",
            "Test accuracy after Subset 1: 0.20192307692307693\n",
            "Training on Subset 2...\n",
            "Test accuracy after Subset 2: 0.20192307692307693\n",
            "Training on Subset 3...\n",
            "Test accuracy after Subset 3: 0.2692307692307692\n",
            "Training on Subset 4...\n",
            "Test accuracy after Subset 4: 0.3557692307692308\n",
            "Test Accuracy:  0.3557692307692308\n",
            "train time consumed:  0.008204221725463867\n",
            "Training on Subset 1...\n",
            "Test accuracy after Subset 1: 0.22115384615384615\n",
            "Training on Subset 2...\n",
            "Test accuracy after Subset 2: 0.25\n",
            "Training on Subset 3...\n",
            "Test accuracy after Subset 3: 0.3173076923076923\n",
            "Training on Subset 4...\n",
            "Test accuracy after Subset 4: 0.3557692307692308\n",
            "Test Accuracy:  0.3557692307692308\n",
            "train time consumed:  0.008993387222290039\n",
            "Training on Subset 1...\n",
            "Test accuracy after Subset 1: 0.25\n",
            "Training on Subset 2...\n",
            "Test accuracy after Subset 2: 0.2692307692307692\n",
            "Training on Subset 3...\n",
            "Test accuracy after Subset 3: 0.3942307692307692\n",
            "Training on Subset 4...\n",
            "Test accuracy after Subset 4: 0.49038461538461536\n",
            "Test Accuracy:  0.49038461538461536\n",
            "train time consumed:  0.012588739395141602\n",
            "Training on Subset 1...\n",
            "Test accuracy after Subset 1: 0.25\n",
            "Training on Subset 2...\n",
            "Test accuracy after Subset 2: 0.3076923076923077\n",
            "Training on Subset 3...\n",
            "Test accuracy after Subset 3: 0.41346153846153844\n",
            "Training on Subset 4...\n",
            "Test accuracy after Subset 4: 0.5096153846153846\n",
            "Test Accuracy:  0.5096153846153846\n",
            "train time consumed:  0.011775970458984375\n",
            "Training on Subset 1...\n",
            "Test accuracy after Subset 1: 0.25961538461538464\n",
            "Training on Subset 2...\n",
            "Test accuracy after Subset 2: 0.3269230769230769\n",
            "Training on Subset 3...\n",
            "Test accuracy after Subset 3: 0.4230769230769231\n",
            "Training on Subset 4...\n",
            "Test accuracy after Subset 4: 0.5288461538461539\n",
            "Test Accuracy:  0.5288461538461539\n",
            "train time consumed:  0.012409210205078125\n",
            "Training on Subset 1...\n",
            "Test accuracy after Subset 1: 0.2692307692307692\n",
            "Training on Subset 2...\n",
            "Test accuracy after Subset 2: 0.33653846153846156\n",
            "Training on Subset 3...\n",
            "Test accuracy after Subset 3: 0.4230769230769231\n",
            "Training on Subset 4...\n",
            "Test accuracy after Subset 4: 0.5288461538461539\n",
            "Test Accuracy:  0.5288461538461539\n",
            "train time consumed:  0.0052912235260009766\n",
            "Training on Subset 1...\n",
            "Test accuracy after Subset 1: 0.27884615384615385\n",
            "Training on Subset 2...\n",
            "Test accuracy after Subset 2: 0.3557692307692308\n",
            "Training on Subset 3...\n",
            "Test accuracy after Subset 3: 0.4423076923076923\n",
            "Training on Subset 4...\n",
            "Test accuracy after Subset 4: 0.5384615384615384\n",
            "Test Accuracy:  0.5384615384615384\n",
            "train time consumed:  0.006684064865112305\n",
            "Training on Subset 1...\n",
            "Test accuracy after Subset 1: 0.27884615384615385\n",
            "Training on Subset 2...\n",
            "Test accuracy after Subset 2: 0.375\n",
            "Training on Subset 3...\n",
            "Test accuracy after Subset 3: 0.47115384615384615\n",
            "Training on Subset 4...\n",
            "Test accuracy after Subset 4: 0.5384615384615384\n",
            "Test Accuracy:  0.5384615384615384\n",
            "train time consumed:  0.0051097869873046875\n",
            "Training on Subset 1...\n",
            "Test accuracy after Subset 1: 0.28846153846153844\n",
            "Training on Subset 2...\n",
            "Test accuracy after Subset 2: 0.38461538461538464\n",
            "Training on Subset 3...\n",
            "Test accuracy after Subset 3: 0.47115384615384615\n",
            "Training on Subset 4...\n",
            "Test accuracy after Subset 4: 0.5576923076923077\n",
            "Test Accuracy:  0.5576923076923077\n",
            "train time consumed:  0.004500150680541992\n",
            "Training on Subset 1...\n",
            "Test accuracy after Subset 1: 0.2980769230769231\n",
            "Training on Subset 2...\n",
            "Test accuracy after Subset 2: 0.38461538461538464\n",
            "Training on Subset 3...\n",
            "Test accuracy after Subset 3: 0.47115384615384615\n",
            "Training on Subset 4...\n",
            "Test accuracy after Subset 4: 0.5576923076923077\n",
            "Test Accuracy:  0.5576923076923077\n",
            "train time consumed:  0.0047016143798828125\n",
            "Training on Subset 1...\n",
            "Test accuracy after Subset 1: 0.2980769230769231\n",
            "Training on Subset 2...\n",
            "Test accuracy after Subset 2: 0.38461538461538464\n",
            "Training on Subset 3...\n",
            "Test accuracy after Subset 3: 0.46153846153846156\n",
            "Training on Subset 4...\n",
            "Test accuracy after Subset 4: 0.5576923076923077\n",
            "Test Accuracy:  0.5576923076923077\n",
            "train time consumed:  0.006150722503662109\n",
            "Training on Subset 1...\n",
            "Test accuracy after Subset 1: 0.2980769230769231\n",
            "Training on Subset 2...\n",
            "Test accuracy after Subset 2: 0.3942307692307692\n",
            "Training on Subset 3...\n",
            "Test accuracy after Subset 3: 0.49038461538461536\n",
            "Training on Subset 4...\n",
            "Test accuracy after Subset 4: 0.5865384615384616\n",
            "Test Accuracy:  0.5865384615384616\n",
            "train time consumed:  0.006023883819580078\n",
            "Training on Subset 1...\n",
            "Test accuracy after Subset 1: 0.2980769230769231\n",
            "Training on Subset 2...\n",
            "Test accuracy after Subset 2: 0.38461538461538464\n",
            "Training on Subset 3...\n",
            "Test accuracy after Subset 3: 0.4807692307692308\n",
            "Training on Subset 4...\n",
            "Test accuracy after Subset 4: 0.5769230769230769\n",
            "Test Accuracy:  0.5769230769230769\n",
            "train time consumed:  0.005460023880004883\n",
            "Training on Subset 1...\n",
            "Test accuracy after Subset 1: 0.2980769230769231\n",
            "Training on Subset 2...\n",
            "Test accuracy after Subset 2: 0.38461538461538464\n",
            "Training on Subset 3...\n",
            "Test accuracy after Subset 3: 0.4807692307692308\n",
            "Training on Subset 4...\n",
            "Test accuracy after Subset 4: 0.5769230769230769\n",
            "Test Accuracy:  0.5769230769230769\n",
            "train time consumed:  0.0069582462310791016\n",
            "Training on Subset 1...\n",
            "Test accuracy after Subset 1: 0.2980769230769231\n",
            "Training on Subset 2...\n",
            "Test accuracy after Subset 2: 0.3942307692307692\n",
            "Training on Subset 3...\n",
            "Test accuracy after Subset 3: 0.4807692307692308\n",
            "Training on Subset 4...\n",
            "Test accuracy after Subset 4: 0.5769230769230769\n",
            "Test Accuracy:  0.5769230769230769\n",
            "train time consumed:  0.005055904388427734\n",
            "Training on Subset 1...\n",
            "Test accuracy after Subset 1: 0.2980769230769231\n",
            "Training on Subset 2...\n",
            "Test accuracy after Subset 2: 0.3942307692307692\n",
            "Training on Subset 3...\n",
            "Test accuracy after Subset 3: 0.49038461538461536\n",
            "Training on Subset 4...\n",
            "Test accuracy after Subset 4: 0.5769230769230769\n",
            "Test Accuracy:  0.5769230769230769\n",
            "train time consumed:  0.009949207305908203\n",
            "Training on Subset 1...\n",
            "Test accuracy after Subset 1: 0.2980769230769231\n",
            "Training on Subset 2...\n",
            "Test accuracy after Subset 2: 0.40384615384615385\n",
            "Training on Subset 3...\n",
            "Test accuracy after Subset 3: 0.49038461538461536\n",
            "Training on Subset 4...\n",
            "Test accuracy after Subset 4: 0.5865384615384616\n",
            "Test Accuracy:  0.5865384615384616\n",
            "train time consumed:  0.004897594451904297\n",
            "Training on Subset 1...\n",
            "Test accuracy after Subset 1: 0.2980769230769231\n",
            "Training on Subset 2...\n",
            "Test accuracy after Subset 2: 0.40384615384615385\n",
            "Training on Subset 3...\n",
            "Test accuracy after Subset 3: 0.5\n",
            "Training on Subset 4...\n",
            "Test accuracy after Subset 4: 0.5865384615384616\n",
            "Test Accuracy:  0.5865384615384616\n",
            "train time consumed:  0.004842281341552734\n",
            "Training on Subset 1...\n",
            "Test accuracy after Subset 1: 0.2980769230769231\n",
            "Training on Subset 2...\n",
            "Test accuracy after Subset 2: 0.40384615384615385\n",
            "Training on Subset 3...\n",
            "Test accuracy after Subset 3: 0.5\n",
            "Training on Subset 4...\n",
            "Test accuracy after Subset 4: 0.5865384615384616\n",
            "Test Accuracy:  0.5865384615384616\n",
            "train time consumed:  0.006205081939697266\n",
            "Training on Subset 1...\n",
            "Test accuracy after Subset 1: 0.2980769230769231\n",
            "Training on Subset 2...\n",
            "Test accuracy after Subset 2: 0.40384615384615385\n",
            "Training on Subset 3...\n",
            "Test accuracy after Subset 3: 0.5\n",
            "Training on Subset 4...\n",
            "Test accuracy after Subset 4: 0.5865384615384616\n",
            "Test Accuracy:  0.5865384615384616\n",
            "train time consumed:  0.0054302215576171875\n",
            "Training on Subset 1...\n",
            "Test accuracy after Subset 1: 0.2980769230769231\n",
            "Training on Subset 2...\n",
            "Test accuracy after Subset 2: 0.40384615384615385\n",
            "Training on Subset 3...\n",
            "Test accuracy after Subset 3: 0.5\n",
            "Training on Subset 4...\n",
            "Test accuracy after Subset 4: 0.5865384615384616\n",
            "Test Accuracy:  0.5865384615384616\n",
            "train time consumed:  0.005345344543457031\n",
            "Training on Subset 1...\n",
            "Test accuracy after Subset 1: 0.2980769230769231\n",
            "Training on Subset 2...\n",
            "Test accuracy after Subset 2: 0.40384615384615385\n",
            "Training on Subset 3...\n",
            "Test accuracy after Subset 3: 0.5\n",
            "Training on Subset 4...\n",
            "Test accuracy after Subset 4: 0.5769230769230769\n",
            "Test Accuracy:  0.5769230769230769\n",
            "train time consumed:  0.0055828094482421875\n",
            "Training on Subset 1...\n",
            "Test accuracy after Subset 1: 0.28846153846153844\n",
            "Training on Subset 2...\n",
            "Test accuracy after Subset 2: 0.40384615384615385\n",
            "Training on Subset 3...\n",
            "Test accuracy after Subset 3: 0.5\n",
            "Training on Subset 4...\n",
            "Test accuracy after Subset 4: 0.5769230769230769\n",
            "Test Accuracy:  0.5769230769230769\n",
            "train time consumed:  0.004698038101196289\n",
            "Training on Subset 1...\n",
            "Test accuracy after Subset 1: 0.2980769230769231\n",
            "Training on Subset 2...\n",
            "Test accuracy after Subset 2: 0.40384615384615385\n",
            "Training on Subset 3...\n",
            "Test accuracy after Subset 3: 0.5\n",
            "Training on Subset 4...\n",
            "Test accuracy after Subset 4: 0.5769230769230769\n",
            "Test Accuracy:  0.5769230769230769\n",
            "train time consumed:  0.00506138801574707\n",
            "Training on Subset 1...\n",
            "Test accuracy after Subset 1: 0.28846153846153844\n",
            "Training on Subset 2...\n",
            "Test accuracy after Subset 2: 0.40384615384615385\n",
            "Training on Subset 3...\n",
            "Test accuracy after Subset 3: 0.5\n",
            "Training on Subset 4...\n",
            "Test accuracy after Subset 4: 0.5769230769230769\n",
            "Test Accuracy:  0.5769230769230769\n",
            "train time consumed:  0.004651784896850586\n",
            "Training on Subset 1...\n",
            "Test accuracy after Subset 1: 0.28846153846153844\n",
            "Training on Subset 2...\n",
            "Test accuracy after Subset 2: 0.40384615384615385\n",
            "Training on Subset 3...\n",
            "Test accuracy after Subset 3: 0.5\n",
            "Training on Subset 4...\n",
            "Test accuracy after Subset 4: 0.5769230769230769\n",
            "Test Accuracy:  0.5769230769230769\n",
            "train time consumed:  0.006064891815185547\n",
            "Training on Subset 1...\n",
            "Test accuracy after Subset 1: 0.28846153846153844\n",
            "Training on Subset 2...\n",
            "Test accuracy after Subset 2: 0.3942307692307692\n",
            "Training on Subset 3...\n",
            "Test accuracy after Subset 3: 0.5\n",
            "Training on Subset 4...\n",
            "Test accuracy after Subset 4: 0.5769230769230769\n",
            "Test Accuracy:  0.5769230769230769\n",
            "train time consumed:  0.004734039306640625\n",
            "Training on Subset 1...\n",
            "Test accuracy after Subset 1: 0.27884615384615385\n",
            "Training on Subset 2...\n",
            "Test accuracy after Subset 2: 0.3942307692307692\n",
            "Training on Subset 3...\n",
            "Test accuracy after Subset 3: 0.5\n",
            "Training on Subset 4...\n",
            "Test accuracy after Subset 4: 0.5769230769230769\n",
            "Test Accuracy:  0.5769230769230769\n",
            "train time consumed:  0.009149312973022461\n",
            "Training on Subset 1...\n",
            "Test accuracy after Subset 1: 0.27884615384615385\n",
            "Training on Subset 2...\n",
            "Test accuracy after Subset 2: 0.3942307692307692\n",
            "Training on Subset 3...\n",
            "Test accuracy after Subset 3: 0.5\n",
            "Training on Subset 4...\n",
            "Test accuracy after Subset 4: 0.5769230769230769\n",
            "Test Accuracy:  0.5769230769230769\n",
            "train time consumed:  0.004806995391845703\n",
            "Training on Subset 1...\n",
            "Test accuracy after Subset 1: 0.27884615384615385\n",
            "Training on Subset 2...\n",
            "Test accuracy after Subset 2: 0.3942307692307692\n",
            "Training on Subset 3...\n",
            "Test accuracy after Subset 3: 0.5\n",
            "Training on Subset 4...\n",
            "Test accuracy after Subset 4: 0.5769230769230769\n",
            "Test Accuracy:  0.5769230769230769\n",
            "train time consumed:  0.014467477798461914\n",
            "Training on Subset 1...\n",
            "Test accuracy after Subset 1: 0.28846153846153844\n",
            "Training on Subset 2...\n",
            "Test accuracy after Subset 2: 0.3942307692307692\n",
            "Training on Subset 3...\n",
            "Test accuracy after Subset 3: 0.5\n",
            "Training on Subset 4...\n",
            "Test accuracy after Subset 4: 0.5673076923076923\n",
            "Test Accuracy:  0.5673076923076923\n",
            "train time consumed:  0.004797220230102539\n",
            "Training on Subset 1...\n",
            "Test accuracy after Subset 1: 0.28846153846153844\n",
            "Training on Subset 2...\n",
            "Test accuracy after Subset 2: 0.3942307692307692\n",
            "Training on Subset 3...\n",
            "Test accuracy after Subset 3: 0.5\n",
            "Training on Subset 4...\n",
            "Test accuracy after Subset 4: 0.5673076923076923\n",
            "Test Accuracy:  0.5673076923076923\n",
            "train time consumed:  0.011075735092163086\n",
            "Training on Subset 1...\n",
            "Test accuracy after Subset 1: 0.28846153846153844\n",
            "Training on Subset 2...\n",
            "Test accuracy after Subset 2: 0.3942307692307692\n",
            "Training on Subset 3...\n",
            "Test accuracy after Subset 3: 0.5\n",
            "Training on Subset 4...\n",
            "Test accuracy after Subset 4: 0.5673076923076923\n",
            "Test Accuracy:  0.5673076923076923\n",
            "train time consumed:  0.00935673713684082\n",
            "Training on Subset 1...\n",
            "Test accuracy after Subset 1: 0.28846153846153844\n",
            "Training on Subset 2...\n",
            "Test accuracy after Subset 2: 0.3942307692307692\n",
            "Training on Subset 3...\n",
            "Test accuracy after Subset 3: 0.5\n",
            "Training on Subset 4...\n",
            "Test accuracy after Subset 4: 0.5673076923076923\n",
            "Test Accuracy:  0.5673076923076923\n",
            "train time consumed:  0.0047931671142578125\n",
            "Training on Subset 1...\n",
            "Test accuracy after Subset 1: 0.28846153846153844\n",
            "Training on Subset 2...\n",
            "Test accuracy after Subset 2: 0.3942307692307692\n",
            "Training on Subset 3...\n",
            "Test accuracy after Subset 3: 0.5\n",
            "Training on Subset 4...\n",
            "Test accuracy after Subset 4: 0.5673076923076923\n",
            "Test Accuracy:  0.5673076923076923\n",
            "train time consumed:  0.005038261413574219\n",
            "Training on Subset 1...\n",
            "Test accuracy after Subset 1: 0.28846153846153844\n",
            "Training on Subset 2...\n",
            "Test accuracy after Subset 2: 0.3942307692307692\n",
            "Training on Subset 3...\n",
            "Test accuracy after Subset 3: 0.5\n",
            "Training on Subset 4...\n",
            "Test accuracy after Subset 4: 0.5673076923076923\n",
            "Test Accuracy:  0.5673076923076923\n",
            "train time consumed:  0.005365848541259766\n",
            "Training on Subset 1...\n",
            "Test accuracy after Subset 1: 0.28846153846153844\n",
            "Training on Subset 2...\n",
            "Test accuracy after Subset 2: 0.3942307692307692\n",
            "Training on Subset 3...\n",
            "Test accuracy after Subset 3: 0.5\n",
            "Training on Subset 4...\n",
            "Test accuracy after Subset 4: 0.5673076923076923\n",
            "Test Accuracy:  0.5673076923076923\n",
            "train time consumed:  0.010415077209472656\n",
            "Training on Subset 1...\n",
            "Test accuracy after Subset 1: 0.28846153846153844\n",
            "Training on Subset 2...\n",
            "Test accuracy after Subset 2: 0.3942307692307692\n",
            "Training on Subset 3...\n",
            "Test accuracy after Subset 3: 0.5\n",
            "Training on Subset 4...\n",
            "Test accuracy after Subset 4: 0.5673076923076923\n",
            "Test Accuracy:  0.5673076923076923\n",
            "train time consumed:  0.005172252655029297\n",
            "Training on Subset 1...\n",
            "Test accuracy after Subset 1: 0.28846153846153844\n",
            "Training on Subset 2...\n",
            "Test accuracy after Subset 2: 0.3942307692307692\n",
            "Training on Subset 3...\n",
            "Test accuracy after Subset 3: 0.5\n",
            "Training on Subset 4...\n",
            "Test accuracy after Subset 4: 0.5673076923076923\n",
            "Test Accuracy:  0.5673076923076923\n",
            "train time consumed:  0.0048944950103759766\n",
            "Training on Subset 1...\n",
            "Test accuracy after Subset 1: 0.28846153846153844\n",
            "Training on Subset 2...\n",
            "Test accuracy after Subset 2: 0.3942307692307692\n",
            "Training on Subset 3...\n",
            "Test accuracy after Subset 3: 0.5\n",
            "Training on Subset 4...\n",
            "Test accuracy after Subset 4: 0.5769230769230769\n",
            "Test Accuracy:  0.5769230769230769\n",
            "train time consumed:  0.0049266815185546875\n",
            "Training on Subset 1...\n",
            "Test accuracy after Subset 1: 0.28846153846153844\n",
            "Training on Subset 2...\n",
            "Test accuracy after Subset 2: 0.3942307692307692\n",
            "Training on Subset 3...\n",
            "Test accuracy after Subset 3: 0.5096153846153846\n",
            "Training on Subset 4...\n",
            "Test accuracy after Subset 4: 0.5865384615384616\n",
            "Test Accuracy:  0.5865384615384616\n",
            "train time consumed:  0.005428791046142578\n",
            "Training on Subset 1...\n",
            "Test accuracy after Subset 1: 0.28846153846153844\n",
            "Training on Subset 2...\n",
            "Test accuracy after Subset 2: 0.3942307692307692\n",
            "Training on Subset 3...\n",
            "Test accuracy after Subset 3: 0.5096153846153846\n",
            "Training on Subset 4...\n",
            "Test accuracy after Subset 4: 0.5865384615384616\n",
            "Test Accuracy:  0.5865384615384616\n",
            "train time consumed:  0.005270481109619141\n",
            "Training on Subset 1...\n",
            "Test accuracy after Subset 1: 0.28846153846153844\n",
            "Training on Subset 2...\n",
            "Test accuracy after Subset 2: 0.3942307692307692\n",
            "Training on Subset 3...\n",
            "Test accuracy after Subset 3: 0.5096153846153846\n",
            "Training on Subset 4...\n",
            "Test accuracy after Subset 4: 0.5865384615384616\n",
            "Test Accuracy:  0.5865384615384616\n",
            "train time consumed:  0.004947662353515625\n",
            "Training on Subset 1...\n",
            "Test accuracy after Subset 1: 0.28846153846153844\n",
            "Training on Subset 2...\n",
            "Test accuracy after Subset 2: 0.3942307692307692\n",
            "Training on Subset 3...\n",
            "Test accuracy after Subset 3: 0.5096153846153846\n",
            "Training on Subset 4...\n",
            "Test accuracy after Subset 4: 0.5865384615384616\n",
            "Test Accuracy:  0.5865384615384616\n",
            "train time consumed:  0.006249904632568359\n",
            "Training on Subset 1...\n",
            "Test accuracy after Subset 1: 0.28846153846153844\n",
            "Training on Subset 2...\n",
            "Test accuracy after Subset 2: 0.3942307692307692\n",
            "Training on Subset 3...\n",
            "Test accuracy after Subset 3: 0.5192307692307693\n",
            "Training on Subset 4...\n",
            "Test accuracy after Subset 4: 0.5865384615384616\n",
            "Test Accuracy:  0.5865384615384616\n",
            "train time consumed:  0.0049669742584228516\n",
            "Training on Subset 1...\n",
            "Test accuracy after Subset 1: 0.28846153846153844\n",
            "Training on Subset 2...\n",
            "Test accuracy after Subset 2: 0.3942307692307692\n",
            "Training on Subset 3...\n",
            "Test accuracy after Subset 3: 0.5192307692307693\n",
            "Training on Subset 4...\n",
            "Test accuracy after Subset 4: 0.5865384615384616\n",
            "Test Accuracy:  0.5865384615384616\n",
            "train time consumed:  0.010677576065063477\n",
            "Training on Subset 1...\n",
            "Test accuracy after Subset 1: 0.28846153846153844\n",
            "Training on Subset 2...\n",
            "Test accuracy after Subset 2: 0.3942307692307692\n",
            "Training on Subset 3...\n",
            "Test accuracy after Subset 3: 0.5192307692307693\n",
            "Training on Subset 4...\n",
            "Test accuracy after Subset 4: 0.5865384615384616\n",
            "Test Accuracy:  0.5865384615384616\n",
            "train time consumed:  0.005719423294067383\n",
            "Training on Subset 1...\n",
            "Test accuracy after Subset 1: 0.28846153846153844\n",
            "Training on Subset 2...\n",
            "Test accuracy after Subset 2: 0.3942307692307692\n",
            "Training on Subset 3...\n",
            "Test accuracy after Subset 3: 0.5192307692307693\n",
            "Training on Subset 4...\n",
            "Test accuracy after Subset 4: 0.5865384615384616\n",
            "Test Accuracy:  0.5865384615384616\n",
            "train time consumed:  0.004857301712036133\n",
            "Training on Subset 1...\n",
            "Test accuracy after Subset 1: 0.28846153846153844\n",
            "Training on Subset 2...\n",
            "Test accuracy after Subset 2: 0.3942307692307692\n",
            "Training on Subset 3...\n",
            "Test accuracy after Subset 3: 0.5192307692307693\n",
            "Training on Subset 4...\n",
            "Test accuracy after Subset 4: 0.5865384615384616\n",
            "Test Accuracy:  0.5865384615384616\n",
            "train time consumed:  0.0066030025482177734\n",
            "Training on Subset 1...\n",
            "Test accuracy after Subset 1: 0.28846153846153844\n",
            "Training on Subset 2...\n",
            "Test accuracy after Subset 2: 0.3942307692307692\n",
            "Training on Subset 3...\n",
            "Test accuracy after Subset 3: 0.5192307692307693\n",
            "Training on Subset 4...\n",
            "Test accuracy after Subset 4: 0.5865384615384616\n",
            "Test Accuracy:  0.5865384615384616\n",
            "train time consumed:  0.0054514408111572266\n",
            "Training on Subset 1...\n",
            "Test accuracy after Subset 1: 0.28846153846153844\n",
            "Training on Subset 2...\n",
            "Test accuracy after Subset 2: 0.3942307692307692\n",
            "Training on Subset 3...\n",
            "Test accuracy after Subset 3: 0.5192307692307693\n",
            "Training on Subset 4...\n",
            "Test accuracy after Subset 4: 0.5865384615384616\n",
            "Test Accuracy:  0.5865384615384616\n",
            "train time consumed:  0.00500798225402832\n",
            "Training on Subset 1...\n",
            "Test accuracy after Subset 1: 0.28846153846153844\n",
            "Training on Subset 2...\n",
            "Test accuracy after Subset 2: 0.3942307692307692\n",
            "Training on Subset 3...\n",
            "Test accuracy after Subset 3: 0.5096153846153846\n",
            "Training on Subset 4...\n",
            "Test accuracy after Subset 4: 0.5865384615384616\n",
            "Test Accuracy:  0.5865384615384616\n",
            "train time consumed:  0.004999399185180664\n",
            "Training on Subset 1...\n",
            "Test accuracy after Subset 1: 0.28846153846153844\n",
            "Training on Subset 2...\n",
            "Test accuracy after Subset 2: 0.3942307692307692\n",
            "Training on Subset 3...\n",
            "Test accuracy after Subset 3: 0.5192307692307693\n",
            "Training on Subset 4...\n",
            "Test accuracy after Subset 4: 0.5961538461538461\n",
            "Test Accuracy:  0.5961538461538461\n",
            "train time consumed:  0.011136531829833984\n",
            "Training on Subset 1...\n",
            "Test accuracy after Subset 1: 0.28846153846153844\n",
            "Training on Subset 2...\n",
            "Test accuracy after Subset 2: 0.3942307692307692\n",
            "Training on Subset 3...\n",
            "Test accuracy after Subset 3: 0.5192307692307693\n",
            "Training on Subset 4...\n",
            "Test accuracy after Subset 4: 0.5865384615384616\n",
            "Test Accuracy:  0.5865384615384616\n",
            "train time consumed:  0.0062754154205322266\n",
            "Training on Subset 1...\n",
            "Test accuracy after Subset 1: 0.28846153846153844\n",
            "Training on Subset 2...\n",
            "Test accuracy after Subset 2: 0.3942307692307692\n",
            "Training on Subset 3...\n",
            "Test accuracy after Subset 3: 0.5192307692307693\n",
            "Training on Subset 4...\n",
            "Test accuracy after Subset 4: 0.5865384615384616\n",
            "Test Accuracy:  0.5865384615384616\n",
            "train time consumed:  0.004656791687011719\n",
            "Training on Subset 1...\n",
            "Test accuracy after Subset 1: 0.28846153846153844\n",
            "Training on Subset 2...\n",
            "Test accuracy after Subset 2: 0.3942307692307692\n",
            "Training on Subset 3...\n",
            "Test accuracy after Subset 3: 0.5192307692307693\n",
            "Training on Subset 4...\n",
            "Test accuracy after Subset 4: 0.5961538461538461\n",
            "Test Accuracy:  0.5961538461538461\n",
            "train time consumed:  0.009868860244750977\n",
            "Training on Subset 1...\n",
            "Test accuracy after Subset 1: 0.28846153846153844\n",
            "Training on Subset 2...\n",
            "Test accuracy after Subset 2: 0.3942307692307692\n",
            "Training on Subset 3...\n",
            "Test accuracy after Subset 3: 0.5192307692307693\n",
            "Training on Subset 4...\n",
            "Test accuracy after Subset 4: 0.5961538461538461\n",
            "Test Accuracy:  0.5961538461538461\n",
            "train time consumed:  0.005759000778198242\n",
            "Training on Subset 1...\n",
            "Test accuracy after Subset 1: 0.28846153846153844\n",
            "Training on Subset 2...\n",
            "Test accuracy after Subset 2: 0.3942307692307692\n",
            "Training on Subset 3...\n",
            "Test accuracy after Subset 3: 0.5192307692307693\n",
            "Training on Subset 4...\n",
            "Test accuracy after Subset 4: 0.5961538461538461\n",
            "Test Accuracy:  0.5961538461538461\n",
            "train time consumed:  0.005038261413574219\n",
            "Training on Subset 1...\n",
            "Test accuracy after Subset 1: 0.28846153846153844\n",
            "Training on Subset 2...\n",
            "Test accuracy after Subset 2: 0.3942307692307692\n",
            "Training on Subset 3...\n",
            "Test accuracy after Subset 3: 0.5192307692307693\n",
            "Training on Subset 4...\n",
            "Test accuracy after Subset 4: 0.5961538461538461\n",
            "Test Accuracy:  0.5961538461538461\n",
            "train time consumed:  0.005415916442871094\n",
            "Training on Subset 1...\n",
            "Test accuracy after Subset 1: 0.28846153846153844\n",
            "Training on Subset 2...\n",
            "Test accuracy after Subset 2: 0.3942307692307692\n",
            "Training on Subset 3...\n",
            "Test accuracy after Subset 3: 0.5192307692307693\n",
            "Training on Subset 4...\n",
            "Test accuracy after Subset 4: 0.5961538461538461\n",
            "Test Accuracy:  0.5961538461538461\n",
            "train time consumed:  0.006477832794189453\n",
            "Training on Subset 1...\n",
            "Test accuracy after Subset 1: 0.28846153846153844\n",
            "Training on Subset 2...\n",
            "Test accuracy after Subset 2: 0.3942307692307692\n",
            "Training on Subset 3...\n",
            "Test accuracy after Subset 3: 0.5192307692307693\n",
            "Training on Subset 4...\n",
            "Test accuracy after Subset 4: 0.5961538461538461\n",
            "Test Accuracy:  0.5961538461538461\n",
            "train time consumed:  0.008899450302124023\n",
            "Training on Subset 1...\n",
            "Test accuracy after Subset 1: 0.28846153846153844\n",
            "Training on Subset 2...\n",
            "Test accuracy after Subset 2: 0.3942307692307692\n",
            "Training on Subset 3...\n",
            "Test accuracy after Subset 3: 0.5192307692307693\n",
            "Training on Subset 4...\n",
            "Test accuracy after Subset 4: 0.5961538461538461\n",
            "Test Accuracy:  0.5961538461538461\n",
            "train time consumed:  0.008229732513427734\n",
            "Training on Subset 1...\n",
            "Test accuracy after Subset 1: 0.28846153846153844\n",
            "Training on Subset 2...\n",
            "Test accuracy after Subset 2: 0.3942307692307692\n",
            "Training on Subset 3...\n",
            "Test accuracy after Subset 3: 0.5192307692307693\n",
            "Training on Subset 4...\n",
            "Test accuracy after Subset 4: 0.5961538461538461\n",
            "Test Accuracy:  0.5961538461538461\n",
            "train time consumed:  0.007194042205810547\n",
            "Training on Subset 1...\n",
            "Test accuracy after Subset 1: 0.28846153846153844\n",
            "Training on Subset 2...\n",
            "Test accuracy after Subset 2: 0.3942307692307692\n",
            "Training on Subset 3...\n",
            "Test accuracy after Subset 3: 0.5192307692307693\n",
            "Training on Subset 4...\n",
            "Test accuracy after Subset 4: 0.5961538461538461\n",
            "Test Accuracy:  0.5961538461538461\n",
            "train time consumed:  0.010619878768920898\n",
            "Training on Subset 1...\n",
            "Test accuracy after Subset 1: 0.28846153846153844\n",
            "Training on Subset 2...\n",
            "Test accuracy after Subset 2: 0.3942307692307692\n",
            "Training on Subset 3...\n",
            "Test accuracy after Subset 3: 0.5192307692307693\n",
            "Training on Subset 4...\n",
            "Test accuracy after Subset 4: 0.5961538461538461\n",
            "Test Accuracy:  0.5961538461538461\n",
            "train time consumed:  0.0045545101165771484\n",
            "Training on Subset 1...\n",
            "Test accuracy after Subset 1: 0.28846153846153844\n",
            "Training on Subset 2...\n",
            "Test accuracy after Subset 2: 0.3942307692307692\n",
            "Training on Subset 3...\n",
            "Test accuracy after Subset 3: 0.5192307692307693\n",
            "Training on Subset 4...\n",
            "Test accuracy after Subset 4: 0.5961538461538461\n",
            "Test Accuracy:  0.5961538461538461\n",
            "train time consumed:  0.004842281341552734\n",
            "Training on Subset 1...\n",
            "Test accuracy after Subset 1: 0.28846153846153844\n",
            "Training on Subset 2...\n",
            "Test accuracy after Subset 2: 0.3942307692307692\n",
            "Training on Subset 3...\n",
            "Test accuracy after Subset 3: 0.5192307692307693\n",
            "Training on Subset 4...\n",
            "Test accuracy after Subset 4: 0.6057692307692307\n",
            "Test Accuracy:  0.6057692307692307\n",
            "train time consumed:  0.0049288272857666016\n",
            "Training on Subset 1...\n",
            "Test accuracy after Subset 1: 0.28846153846153844\n",
            "Training on Subset 2...\n",
            "Test accuracy after Subset 2: 0.3942307692307692\n",
            "Training on Subset 3...\n",
            "Test accuracy after Subset 3: 0.5192307692307693\n",
            "Training on Subset 4...\n",
            "Test accuracy after Subset 4: 0.6057692307692307\n",
            "Test Accuracy:  0.6057692307692307\n",
            "train time consumed:  0.005244731903076172\n",
            "Training on Subset 1...\n",
            "Test accuracy after Subset 1: 0.28846153846153844\n",
            "Training on Subset 2...\n",
            "Test accuracy after Subset 2: 0.3942307692307692\n",
            "Training on Subset 3...\n",
            "Test accuracy after Subset 3: 0.5192307692307693\n",
            "Training on Subset 4...\n",
            "Test accuracy after Subset 4: 0.6057692307692307\n",
            "Test Accuracy:  0.6057692307692307\n",
            "train time consumed:  0.00507354736328125\n",
            "Training on Subset 1...\n",
            "Test accuracy after Subset 1: 0.28846153846153844\n",
            "Training on Subset 2...\n",
            "Test accuracy after Subset 2: 0.3942307692307692\n",
            "Training on Subset 3...\n",
            "Test accuracy after Subset 3: 0.5192307692307693\n",
            "Training on Subset 4...\n",
            "Test accuracy after Subset 4: 0.6057692307692307\n",
            "Test Accuracy:  0.6057692307692307\n",
            "train time consumed:  0.005419731140136719\n",
            "Training on Subset 1...\n",
            "Test accuracy after Subset 1: 0.28846153846153844\n",
            "Training on Subset 2...\n",
            "Test accuracy after Subset 2: 0.3942307692307692\n",
            "Training on Subset 3...\n",
            "Test accuracy after Subset 3: 0.5192307692307693\n",
            "Training on Subset 4...\n",
            "Test accuracy after Subset 4: 0.6057692307692307\n",
            "Test Accuracy:  0.6057692307692307\n",
            "train time consumed:  0.0059604644775390625\n",
            "Training on Subset 1...\n",
            "Test accuracy after Subset 1: 0.28846153846153844\n",
            "Training on Subset 2...\n",
            "Test accuracy after Subset 2: 0.3942307692307692\n",
            "Training on Subset 3...\n",
            "Test accuracy after Subset 3: 0.5192307692307693\n",
            "Training on Subset 4...\n",
            "Test accuracy after Subset 4: 0.6057692307692307\n",
            "Test Accuracy:  0.6057692307692307\n",
            "train time consumed:  0.004774570465087891\n",
            "Training on Subset 1...\n",
            "Test accuracy after Subset 1: 0.28846153846153844\n",
            "Training on Subset 2...\n",
            "Test accuracy after Subset 2: 0.3942307692307692\n",
            "Training on Subset 3...\n",
            "Test accuracy after Subset 3: 0.5192307692307693\n",
            "Training on Subset 4...\n",
            "Test accuracy after Subset 4: 0.6057692307692307\n",
            "Test Accuracy:  0.6057692307692307\n",
            "train time consumed:  0.008852958679199219\n",
            "Training on Subset 1...\n",
            "Test accuracy after Subset 1: 0.28846153846153844\n",
            "Training on Subset 2...\n",
            "Test accuracy after Subset 2: 0.3942307692307692\n",
            "Training on Subset 3...\n",
            "Test accuracy after Subset 3: 0.5192307692307693\n",
            "Training on Subset 4...\n",
            "Test accuracy after Subset 4: 0.6057692307692307\n",
            "Test Accuracy:  0.6057692307692307\n",
            "train time consumed:  0.005175113677978516\n",
            "Training on Subset 1...\n",
            "Test accuracy after Subset 1: 0.28846153846153844\n",
            "Training on Subset 2...\n",
            "Test accuracy after Subset 2: 0.3942307692307692\n",
            "Training on Subset 3...\n",
            "Test accuracy after Subset 3: 0.5192307692307693\n",
            "Training on Subset 4...\n",
            "Test accuracy after Subset 4: 0.6057692307692307\n",
            "Test Accuracy:  0.6057692307692307\n",
            "train time consumed:  0.004949331283569336\n",
            "Training on Subset 1...\n",
            "Test accuracy after Subset 1: 0.28846153846153844\n",
            "Training on Subset 2...\n",
            "Test accuracy after Subset 2: 0.3942307692307692\n",
            "Training on Subset 3...\n",
            "Test accuracy after Subset 3: 0.5192307692307693\n",
            "Training on Subset 4...\n",
            "Test accuracy after Subset 4: 0.6057692307692307\n",
            "Test Accuracy:  0.6057692307692307\n",
            "train time consumed:  0.005214214324951172\n",
            "Training on Subset 1...\n",
            "Test accuracy after Subset 1: 0.28846153846153844\n",
            "Training on Subset 2...\n",
            "Test accuracy after Subset 2: 0.3942307692307692\n",
            "Training on Subset 3...\n",
            "Test accuracy after Subset 3: 0.5192307692307693\n",
            "Training on Subset 4...\n",
            "Test accuracy after Subset 4: 0.6057692307692307\n",
            "Test Accuracy:  0.6057692307692307\n",
            "train time consumed:  0.0055811405181884766\n",
            "Training on Subset 1...\n",
            "Test accuracy after Subset 1: 0.28846153846153844\n",
            "Training on Subset 2...\n",
            "Test accuracy after Subset 2: 0.3942307692307692\n",
            "Training on Subset 3...\n",
            "Test accuracy after Subset 3: 0.5192307692307693\n",
            "Training on Subset 4...\n",
            "Test accuracy after Subset 4: 0.6057692307692307\n",
            "Test Accuracy:  0.6057692307692307\n",
            "train time consumed:  0.005508899688720703\n",
            "Training on Subset 1...\n",
            "Test accuracy after Subset 1: 0.28846153846153844\n",
            "Training on Subset 2...\n",
            "Test accuracy after Subset 2: 0.3942307692307692\n",
            "Training on Subset 3...\n",
            "Test accuracy after Subset 3: 0.5192307692307693\n",
            "Training on Subset 4...\n",
            "Test accuracy after Subset 4: 0.6057692307692307\n",
            "Test Accuracy:  0.6057692307692307\n",
            "train time consumed:  0.01366114616394043\n",
            "Training on Subset 1...\n",
            "Test accuracy after Subset 1: 0.28846153846153844\n",
            "Training on Subset 2...\n",
            "Test accuracy after Subset 2: 0.3942307692307692\n",
            "Training on Subset 3...\n",
            "Test accuracy after Subset 3: 0.5192307692307693\n",
            "Training on Subset 4...\n",
            "Test accuracy after Subset 4: 0.6057692307692307\n",
            "Test Accuracy:  0.6057692307692307\n",
            "train time consumed:  0.012863397598266602\n",
            "Training on Subset 1...\n",
            "Test accuracy after Subset 1: 0.28846153846153844\n",
            "Training on Subset 2...\n",
            "Test accuracy after Subset 2: 0.3942307692307692\n",
            "Training on Subset 3...\n",
            "Test accuracy after Subset 3: 0.5192307692307693\n",
            "Training on Subset 4...\n",
            "Test accuracy after Subset 4: 0.6057692307692307\n",
            "Test Accuracy:  0.6057692307692307\n",
            "train time consumed:  0.013292551040649414\n",
            "Training on Subset 1...\n",
            "Test accuracy after Subset 1: 0.28846153846153844\n",
            "Training on Subset 2...\n",
            "Test accuracy after Subset 2: 0.3942307692307692\n",
            "Training on Subset 3...\n",
            "Test accuracy after Subset 3: 0.5192307692307693\n",
            "Training on Subset 4...\n",
            "Test accuracy after Subset 4: 0.6057692307692307\n",
            "Test Accuracy:  0.6057692307692307\n",
            "train time consumed:  0.006985664367675781\n",
            "Training on Subset 1...\n",
            "Test accuracy after Subset 1: 0.28846153846153844\n",
            "Training on Subset 2...\n",
            "Test accuracy after Subset 2: 0.3942307692307692\n",
            "Training on Subset 3...\n",
            "Test accuracy after Subset 3: 0.5192307692307693\n",
            "Training on Subset 4...\n",
            "Test accuracy after Subset 4: 0.6057692307692307\n",
            "Test Accuracy:  0.6057692307692307\n",
            "train time consumed:  0.006593465805053711\n"
          ]
        }
      ]
    },
    {
      "cell_type": "markdown",
      "source": [
        "...and only the first subest of the incremental method."
      ],
      "metadata": {
        "id": "D8-vJPr3iV4z"
      }
    },
    {
      "cell_type": "code",
      "source": [
        "number_of_basis_list = range(5, 416, 5)\n",
        "accuracy_result_subset = []\n",
        "time_cosume_result_subset = []\n",
        "\n",
        "# Step 1: Center the data by subtracting the mean of each feature (column)\n",
        "mean = np.mean(X_train, axis=0)\n",
        "centered_data = X_train - mean\n",
        "\n",
        "# Step 2: Calculate the covariance matrix S=(1/N)A^TA\n",
        "covariance_matrix = np.dot(centered_data, centered_data.T)\n",
        "\n",
        "# Step 3: Perform eigenvalue decomposition on the covariance matrix\n",
        "eigenvalues, eigenvectors = np.linalg.eig(covariance_matrix)\n",
        "\n",
        "eigenvectors = np.dot(centered_data.T, eigenvectors)\n",
        "\n",
        "# Iterate through each column (vector) and normalize it\n",
        "for i in range(eigenvectors.shape[1]):\n",
        "    vector = eigenvectors[:, i]  # Select the i-th column (vector)\n",
        "    eigenvectors[:, i] = vector / np.linalg.norm(vector)  # Update the matrix\n",
        "\n",
        "# Step 4: Sort the eigenvectors by eigenvalues in descending order\n",
        "sorted_indices = np.argsort(eigenvalues)[::-1]\n",
        "eigenvalues = eigenvalues[sorted_indices]\n",
        "eigenvectors = eigenvectors[:, sorted_indices]\n",
        "\n",
        "for number_of_basis in number_of_basis_list:\n",
        "  # Step 5: Select the top k eigenvectors (where k is the number of desired components)\n",
        "  # You can choose the number of components you want to retain (k) based on your requirements.\n",
        "  # For example, if you want to reduce dimensionality, you can select a smaller k.\n",
        "  k = number_of_basis  # Choose an appropriate value for k\n",
        "\n",
        "  top_k_eigenvectors = eigenvectors[:, :k]\n",
        "\n",
        "  # Step 6: Project the centered data onto the top k eigenvectors to get the reduced-dimensional representation\n",
        "  reduced_train_data = np.dot(centered_data, top_k_eigenvectors)\n",
        "  reduced_test_data = np.dot(X_test - mean, top_k_eigenvectors)\n",
        "\n",
        "  time_consume = 0\n",
        "\n",
        "  # Train the model incrementally on each subset\n",
        "  for index in range(1, 2):\n",
        "    # Split the training data into four subsets\n",
        "    subset_size = (len(reduced_train_data) // 4) * index\n",
        "    subsets = reduced_train_data[:subset_size]\n",
        "    subset_labels = y_train[:subset_size]\n",
        "\n",
        "    # train KNN with reduced data set\n",
        "    nn = KNeighborsClassifier(n_neighbors=1)\n",
        "\n",
        "    start_time = time.time()\n",
        "\n",
        "    print(f\"Training on Subset {index}...\")\n",
        "    nn.fit(subsets, subset_labels.T.ravel())\n",
        "\n",
        "    end_time = time.time()\n",
        "\n",
        "    # Evaluate the model on the test data after each subset\n",
        "    test_accuracy = nn.score(reduced_test_data, y_test.T.ravel())\n",
        "    print(f'Test accuracy after Subset {index}: {test_accuracy}')\n",
        "\n",
        "    time_consume += end_time - start_time\n",
        "\n",
        "  # test with trained KNN\n",
        "  acc = nn.score(reduced_test_data, y_test.T.ravel())\n",
        "\n",
        "  print(\"Test Accuracy: \", acc)\n",
        "\n",
        "  accuracy_result_subset.append(acc)\n",
        "\n",
        "  print(\"train time consumed: \", time_consume)\n",
        "\n",
        "  time_cosume_result_subset.append(time_consume)"
      ],
      "metadata": {
        "colab": {
          "base_uri": "https://localhost:8080/"
        },
        "id": "VnjFh8lXiaVT",
        "outputId": "d7cb191f-b73d-46a9-fbe6-d49fb57de6a8"
      },
      "execution_count": null,
      "outputs": [
        {
          "output_type": "stream",
          "name": "stdout",
          "text": [
            "Training on Subset 1...\n",
            "Test accuracy after Subset 1: 0.20192307692307693\n",
            "Test Accuracy:  0.20192307692307693\n",
            "train time consumed:  0.002168893814086914\n",
            "Training on Subset 1...\n",
            "Test accuracy after Subset 1: 0.22115384615384615\n",
            "Test Accuracy:  0.22115384615384615\n",
            "train time consumed:  0.001676797866821289\n",
            "Training on Subset 1...\n",
            "Test accuracy after Subset 1: 0.25\n",
            "Test Accuracy:  0.25\n",
            "train time consumed:  0.00191497802734375\n",
            "Training on Subset 1...\n",
            "Test accuracy after Subset 1: 0.25\n",
            "Test Accuracy:  0.25\n",
            "train time consumed:  0.0020322799682617188\n",
            "Training on Subset 1...\n",
            "Test accuracy after Subset 1: 0.25961538461538464\n",
            "Test Accuracy:  0.25961538461538464\n",
            "train time consumed:  0.0019297599792480469\n",
            "Training on Subset 1...\n",
            "Test accuracy after Subset 1: 0.2692307692307692\n",
            "Test Accuracy:  0.2692307692307692\n",
            "train time consumed:  0.0017216205596923828\n",
            "Training on Subset 1...\n",
            "Test accuracy after Subset 1: 0.27884615384615385\n",
            "Test Accuracy:  0.27884615384615385\n",
            "train time consumed:  0.0014188289642333984\n",
            "Training on Subset 1...\n",
            "Test accuracy after Subset 1: 0.27884615384615385\n",
            "Test Accuracy:  0.27884615384615385\n",
            "train time consumed:  0.001556396484375\n",
            "Training on Subset 1...\n",
            "Test accuracy after Subset 1: 0.28846153846153844\n",
            "Test Accuracy:  0.28846153846153844\n",
            "train time consumed:  0.0015513896942138672\n",
            "Training on Subset 1...\n",
            "Test accuracy after Subset 1: 0.2980769230769231\n",
            "Test Accuracy:  0.2980769230769231\n",
            "train time consumed:  0.0017979145050048828\n",
            "Training on Subset 1...\n",
            "Test accuracy after Subset 1: 0.2980769230769231\n",
            "Test Accuracy:  0.2980769230769231\n",
            "train time consumed:  0.0017659664154052734\n",
            "Training on Subset 1...\n",
            "Test accuracy after Subset 1: 0.2980769230769231\n",
            "Test Accuracy:  0.2980769230769231\n",
            "train time consumed:  0.0017130374908447266\n",
            "Training on Subset 1...\n",
            "Test accuracy after Subset 1: 0.2980769230769231\n",
            "Test Accuracy:  0.2980769230769231\n",
            "train time consumed:  0.002351999282836914\n",
            "Training on Subset 1...\n",
            "Test accuracy after Subset 1: 0.2980769230769231\n",
            "Test Accuracy:  0.2980769230769231\n",
            "train time consumed:  0.0016214847564697266\n",
            "Training on Subset 1...\n",
            "Test accuracy after Subset 1: 0.2980769230769231\n",
            "Test Accuracy:  0.2980769230769231\n",
            "train time consumed:  0.0015892982482910156\n",
            "Training on Subset 1...\n",
            "Test accuracy after Subset 1: 0.2980769230769231\n",
            "Test Accuracy:  0.2980769230769231\n",
            "train time consumed:  0.0016314983367919922\n",
            "Training on Subset 1...\n",
            "Test accuracy after Subset 1: 0.2980769230769231\n",
            "Test Accuracy:  0.2980769230769231\n",
            "train time consumed:  0.0018987655639648438\n",
            "Training on Subset 1...\n",
            "Test accuracy after Subset 1: 0.2980769230769231\n",
            "Test Accuracy:  0.2980769230769231\n",
            "train time consumed:  0.0014162063598632812\n",
            "Training on Subset 1...\n",
            "Test accuracy after Subset 1: 0.2980769230769231\n",
            "Test Accuracy:  0.2980769230769231\n",
            "train time consumed:  0.0014886856079101562\n",
            "Training on Subset 1...\n",
            "Test accuracy after Subset 1: 0.2980769230769231\n",
            "Test Accuracy:  0.2980769230769231\n",
            "train time consumed:  0.0014033317565917969\n",
            "Training on Subset 1...\n",
            "Test accuracy after Subset 1: 0.2980769230769231\n",
            "Test Accuracy:  0.2980769230769231\n",
            "train time consumed:  0.0017826557159423828\n",
            "Training on Subset 1...\n",
            "Test accuracy after Subset 1: 0.2980769230769231\n",
            "Test Accuracy:  0.2980769230769231\n",
            "train time consumed:  0.001920938491821289\n",
            "Training on Subset 1...\n",
            "Test accuracy after Subset 1: 0.28846153846153844\n",
            "Test Accuracy:  0.28846153846153844\n",
            "train time consumed:  0.0015590190887451172\n",
            "Training on Subset 1...\n",
            "Test accuracy after Subset 1: 0.2980769230769231\n",
            "Test Accuracy:  0.2980769230769231\n",
            "train time consumed:  0.0016257762908935547\n",
            "Training on Subset 1...\n",
            "Test accuracy after Subset 1: 0.28846153846153844\n",
            "Test Accuracy:  0.28846153846153844\n",
            "train time consumed:  0.001856088638305664\n",
            "Training on Subset 1...\n",
            "Test accuracy after Subset 1: 0.28846153846153844\n",
            "Test Accuracy:  0.28846153846153844\n",
            "train time consumed:  0.0014286041259765625\n",
            "Training on Subset 1...\n",
            "Test accuracy after Subset 1: 0.28846153846153844\n",
            "Test Accuracy:  0.28846153846153844\n",
            "train time consumed:  0.0014164447784423828\n",
            "Training on Subset 1...\n",
            "Test accuracy after Subset 1: 0.27884615384615385\n",
            "Test Accuracy:  0.27884615384615385\n",
            "train time consumed:  0.0013928413391113281\n",
            "Training on Subset 1...\n",
            "Test accuracy after Subset 1: 0.27884615384615385\n",
            "Test Accuracy:  0.27884615384615385\n",
            "train time consumed:  0.0026335716247558594\n",
            "Training on Subset 1...\n",
            "Test accuracy after Subset 1: 0.27884615384615385\n",
            "Test Accuracy:  0.27884615384615385\n",
            "train time consumed:  0.0016748905181884766\n",
            "Training on Subset 1...\n",
            "Test accuracy after Subset 1: 0.28846153846153844\n",
            "Test Accuracy:  0.28846153846153844\n",
            "train time consumed:  0.0016360282897949219\n",
            "Training on Subset 1...\n",
            "Test accuracy after Subset 1: 0.28846153846153844\n",
            "Test Accuracy:  0.28846153846153844\n",
            "train time consumed:  0.0016369819641113281\n",
            "Training on Subset 1...\n",
            "Test accuracy after Subset 1: 0.28846153846153844\n",
            "Test Accuracy:  0.28846153846153844\n",
            "train time consumed:  0.001922607421875\n",
            "Training on Subset 1...\n",
            "Test accuracy after Subset 1: 0.28846153846153844\n",
            "Test Accuracy:  0.28846153846153844\n",
            "train time consumed:  0.0016129016876220703\n",
            "Training on Subset 1...\n",
            "Test accuracy after Subset 1: 0.28846153846153844\n",
            "Test Accuracy:  0.28846153846153844\n",
            "train time consumed:  0.0016760826110839844\n",
            "Training on Subset 1...\n",
            "Test accuracy after Subset 1: 0.28846153846153844\n",
            "Test Accuracy:  0.28846153846153844\n",
            "train time consumed:  0.0017209053039550781\n",
            "Training on Subset 1...\n",
            "Test accuracy after Subset 1: 0.28846153846153844\n",
            "Test Accuracy:  0.28846153846153844\n",
            "train time consumed:  0.001971721649169922\n",
            "Training on Subset 1...\n",
            "Test accuracy after Subset 1: 0.28846153846153844\n",
            "Test Accuracy:  0.28846153846153844\n",
            "train time consumed:  0.0016560554504394531\n",
            "Training on Subset 1...\n",
            "Test accuracy after Subset 1: 0.28846153846153844\n",
            "Test Accuracy:  0.28846153846153844\n",
            "train time consumed:  0.0018520355224609375\n",
            "Training on Subset 1...\n",
            "Test accuracy after Subset 1: 0.28846153846153844\n",
            "Test Accuracy:  0.28846153846153844\n",
            "train time consumed:  0.001623392105102539\n",
            "Training on Subset 1...\n",
            "Test accuracy after Subset 1: 0.28846153846153844\n",
            "Test Accuracy:  0.28846153846153844\n",
            "train time consumed:  0.0019271373748779297\n",
            "Training on Subset 1...\n",
            "Test accuracy after Subset 1: 0.28846153846153844\n",
            "Test Accuracy:  0.28846153846153844\n",
            "train time consumed:  0.0019245147705078125\n",
            "Training on Subset 1...\n",
            "Test accuracy after Subset 1: 0.28846153846153844\n",
            "Test Accuracy:  0.28846153846153844\n",
            "train time consumed:  0.0016956329345703125\n",
            "Training on Subset 1...\n",
            "Test accuracy after Subset 1: 0.28846153846153844\n",
            "Test Accuracy:  0.28846153846153844\n",
            "train time consumed:  0.0016524791717529297\n",
            "Training on Subset 1...\n",
            "Test accuracy after Subset 1: 0.28846153846153844\n",
            "Test Accuracy:  0.28846153846153844\n",
            "train time consumed:  0.0016925334930419922\n",
            "Training on Subset 1...\n",
            "Test accuracy after Subset 1: 0.28846153846153844\n",
            "Test Accuracy:  0.28846153846153844\n",
            "train time consumed:  0.0019350051879882812\n",
            "Training on Subset 1...\n",
            "Test accuracy after Subset 1: 0.28846153846153844\n",
            "Test Accuracy:  0.28846153846153844\n",
            "train time consumed:  0.0017850399017333984\n",
            "Training on Subset 1...\n",
            "Test accuracy after Subset 1: 0.28846153846153844\n",
            "Test Accuracy:  0.28846153846153844\n",
            "train time consumed:  0.0016701221466064453\n",
            "Training on Subset 1...\n",
            "Test accuracy after Subset 1: 0.28846153846153844\n",
            "Test Accuracy:  0.28846153846153844\n",
            "train time consumed:  0.001916646957397461\n",
            "Training on Subset 1...\n",
            "Test accuracy after Subset 1: 0.28846153846153844\n",
            "Test Accuracy:  0.28846153846153844\n",
            "train time consumed:  0.0016644001007080078\n",
            "Training on Subset 1...\n",
            "Test accuracy after Subset 1: 0.28846153846153844\n",
            "Test Accuracy:  0.28846153846153844\n",
            "train time consumed:  0.0019333362579345703\n",
            "Training on Subset 1...\n",
            "Test accuracy after Subset 1: 0.28846153846153844\n",
            "Test Accuracy:  0.28846153846153844\n",
            "train time consumed:  0.0018610954284667969\n",
            "Training on Subset 1...\n",
            "Test accuracy after Subset 1: 0.28846153846153844\n",
            "Test Accuracy:  0.28846153846153844\n",
            "train time consumed:  0.0011775493621826172\n",
            "Training on Subset 1...\n",
            "Test accuracy after Subset 1: 0.28846153846153844\n",
            "Test Accuracy:  0.28846153846153844\n",
            "train time consumed:  0.001924753189086914\n",
            "Training on Subset 1...\n",
            "Test accuracy after Subset 1: 0.28846153846153844\n",
            "Test Accuracy:  0.28846153846153844\n",
            "train time consumed:  0.0016677379608154297\n",
            "Training on Subset 1...\n",
            "Test accuracy after Subset 1: 0.28846153846153844\n",
            "Test Accuracy:  0.28846153846153844\n",
            "train time consumed:  0.0019674301147460938\n",
            "Training on Subset 1...\n",
            "Test accuracy after Subset 1: 0.28846153846153844\n",
            "Test Accuracy:  0.28846153846153844\n",
            "train time consumed:  0.0016553401947021484\n",
            "Training on Subset 1...\n",
            "Test accuracy after Subset 1: 0.28846153846153844\n",
            "Test Accuracy:  0.28846153846153844\n",
            "train time consumed:  0.003023386001586914\n",
            "Training on Subset 1...\n",
            "Test accuracy after Subset 1: 0.28846153846153844\n",
            "Test Accuracy:  0.28846153846153844\n",
            "train time consumed:  0.0019502639770507812\n",
            "Training on Subset 1...\n",
            "Test accuracy after Subset 1: 0.28846153846153844\n",
            "Test Accuracy:  0.28846153846153844\n",
            "train time consumed:  0.0018854141235351562\n",
            "Training on Subset 1...\n",
            "Test accuracy after Subset 1: 0.28846153846153844\n",
            "Test Accuracy:  0.28846153846153844\n",
            "train time consumed:  0.0016586780548095703\n",
            "Training on Subset 1...\n",
            "Test accuracy after Subset 1: 0.28846153846153844\n",
            "Test Accuracy:  0.28846153846153844\n",
            "train time consumed:  0.0016384124755859375\n",
            "Training on Subset 1...\n",
            "Test accuracy after Subset 1: 0.28846153846153844\n",
            "Test Accuracy:  0.28846153846153844\n",
            "train time consumed:  0.0016813278198242188\n",
            "Training on Subset 1...\n",
            "Test accuracy after Subset 1: 0.28846153846153844\n",
            "Test Accuracy:  0.28846153846153844\n",
            "train time consumed:  0.002341747283935547\n",
            "Training on Subset 1...\n",
            "Test accuracy after Subset 1: 0.28846153846153844\n",
            "Test Accuracy:  0.28846153846153844\n",
            "train time consumed:  0.002254486083984375\n",
            "Training on Subset 1...\n",
            "Test accuracy after Subset 1: 0.28846153846153844\n",
            "Test Accuracy:  0.28846153846153844\n",
            "train time consumed:  0.0019023418426513672\n",
            "Training on Subset 1...\n",
            "Test accuracy after Subset 1: 0.28846153846153844\n",
            "Test Accuracy:  0.28846153846153844\n",
            "train time consumed:  0.0016293525695800781\n",
            "Training on Subset 1...\n",
            "Test accuracy after Subset 1: 0.28846153846153844\n",
            "Test Accuracy:  0.28846153846153844\n",
            "train time consumed:  0.0016918182373046875\n",
            "Training on Subset 1...\n",
            "Test accuracy after Subset 1: 0.28846153846153844\n",
            "Test Accuracy:  0.28846153846153844\n",
            "train time consumed:  0.0018808841705322266\n",
            "Training on Subset 1...\n",
            "Test accuracy after Subset 1: 0.28846153846153844\n",
            "Test Accuracy:  0.28846153846153844\n",
            "train time consumed:  0.0016741752624511719\n",
            "Training on Subset 1...\n",
            "Test accuracy after Subset 1: 0.28846153846153844\n",
            "Test Accuracy:  0.28846153846153844\n",
            "train time consumed:  0.0016825199127197266\n",
            "Training on Subset 1...\n",
            "Test accuracy after Subset 1: 0.28846153846153844\n",
            "Test Accuracy:  0.28846153846153844\n",
            "train time consumed:  0.0016889572143554688\n",
            "Training on Subset 1...\n",
            "Test accuracy after Subset 1: 0.28846153846153844\n",
            "Test Accuracy:  0.28846153846153844\n",
            "train time consumed:  0.0019130706787109375\n",
            "Training on Subset 1...\n",
            "Test accuracy after Subset 1: 0.28846153846153844\n",
            "Test Accuracy:  0.28846153846153844\n",
            "train time consumed:  0.0017075538635253906\n",
            "Training on Subset 1...\n",
            "Test accuracy after Subset 1: 0.28846153846153844\n",
            "Test Accuracy:  0.28846153846153844\n",
            "train time consumed:  0.0017218589782714844\n",
            "Training on Subset 1...\n",
            "Test accuracy after Subset 1: 0.28846153846153844\n",
            "Test Accuracy:  0.28846153846153844\n",
            "train time consumed:  0.001734018325805664\n",
            "Training on Subset 1...\n",
            "Test accuracy after Subset 1: 0.28846153846153844\n",
            "Test Accuracy:  0.28846153846153844\n",
            "train time consumed:  0.0018475055694580078\n",
            "Training on Subset 1...\n",
            "Test accuracy after Subset 1: 0.28846153846153844\n",
            "Test Accuracy:  0.28846153846153844\n",
            "train time consumed:  0.002071857452392578\n",
            "Training on Subset 1...\n",
            "Test accuracy after Subset 1: 0.28846153846153844\n",
            "Test Accuracy:  0.28846153846153844\n",
            "train time consumed:  0.0018339157104492188\n",
            "Training on Subset 1...\n",
            "Test accuracy after Subset 1: 0.28846153846153844\n",
            "Test Accuracy:  0.28846153846153844\n",
            "train time consumed:  0.0020685195922851562\n",
            "Training on Subset 1...\n",
            "Test accuracy after Subset 1: 0.28846153846153844\n",
            "Test Accuracy:  0.28846153846153844\n",
            "train time consumed:  0.001718282699584961\n",
            "Training on Subset 1...\n",
            "Test accuracy after Subset 1: 0.28846153846153844\n",
            "Test Accuracy:  0.28846153846153844\n",
            "train time consumed:  0.0017437934875488281\n",
            "Training on Subset 1...\n",
            "Test accuracy after Subset 1: 0.28846153846153844\n",
            "Test Accuracy:  0.28846153846153844\n",
            "train time consumed:  0.002202272415161133\n"
          ]
        }
      ]
    },
    {
      "cell_type": "markdown",
      "source": [
        "We got all results from above, so let's draw graphs to visualize things."
      ],
      "metadata": {
        "id": "IDj-LX9JltVc"
      }
    },
    {
      "cell_type": "code",
      "source": [
        "plt.plot(number_of_basis_list, accuracy_result)\n",
        "plt.plot(number_of_basis_list, accuracy_result_incremental)\n",
        "plt.plot(number_of_basis_list, accuracy_result_subset)\n",
        "\n",
        "plt.ylabel('Accuracy')\n",
        "plt.xlabel('PCA')\n",
        "\n",
        "plt.legend(['batch', 'incremental', 'subset'])\n",
        "\n",
        "plt.show()"
      ],
      "metadata": {
        "colab": {
          "base_uri": "https://localhost:8080/",
          "height": 449
        },
        "id": "Du7Bvt0TltGO",
        "outputId": "92cd376f-cf34-4510-ea55-d824fa70fd42"
      },
      "execution_count": null,
      "outputs": [
        {
          "output_type": "display_data",
          "data": {
            "text/plain": [
              "<Figure size 640x480 with 1 Axes>"
            ],
            "image/png": "[encoded data removed]"
          },
          "metadata": {}
        }
      ]
    },
    {
      "cell_type": "code",
      "source": [
        "plt.plot(number_of_basis_list, time_cosume_result)\n",
        "plt.plot(number_of_basis_list, time_cosume_result_incremental)\n",
        "plt.plot(number_of_basis_list, time_cosume_result_subset)\n",
        "\n",
        "plt.ylabel('Time')\n",
        "plt.xlabel('PCA')\n",
        "\n",
        "plt.legend(['batch', 'incremental', 'subset'])\n",
        "\n",
        "plt.show()"
      ],
      "metadata": {
        "colab": {
          "base_uri": "https://localhost:8080/",
          "height": 449
        },
        "id": "WgTCdovRmDGq",
        "outputId": "266db09e-79f8-4724-8e4e-a80fc282f4b8"
      },
      "execution_count": null,
      "outputs": [
        {
          "output_type": "display_data",
          "data": {
            "text/plain": [
              "<Figure size 640x480 with 1 Axes>"
            ],
            "image/png": "[encoded data removed]"
          },
          "metadata": {}
        }
      ]
    }
  ]
}