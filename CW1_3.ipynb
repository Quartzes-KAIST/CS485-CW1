{
  "nbformat": 4,
  "nbformat_minor": 0,
  "metadata": {
    "colab": {
      "provenance": []
    },
    "kernelspec": {
      "name": "python3",
      "display_name": "Python 3"
    },
    "language_info": {
      "name": "python"
    }
  },
  "cells": [
    {
      "cell_type": "markdown",
      "source": [
        "# Random Forest"
      ],
      "metadata": {
        "id": "lYmcwQlR-FH9"
      }
    },
    {
      "cell_type": "code",
      "execution_count": null,
      "metadata": {
        "colab": {
          "base_uri": "https://localhost:8080/"
        },
        "id": "BSWBNFk7-Ef3",
        "outputId": "21dc51a1-8672-45ff-b666-5d06cafffff2"
      },
      "outputs": [
        {
          "output_type": "stream",
          "name": "stdout",
          "text": [
            "Mounted at /content/drive\n"
          ]
        }
      ],
      "source": [
        "from google.colab import drive\n",
        "drive.mount('/content/drive')"
      ]
    },
    {
      "cell_type": "code",
      "source": [
        "import scipy.io as sio\n",
        "import numpy as np\n",
        "import matplotlib.pyplot as plt\n",
        "\n",
        "mat_content = sio.loadmat('/content/drive/MyDrive/face.mat')\n",
        "\n",
        "mat_content # Let's see the content..."
      ],
      "metadata": {
        "colab": {
          "base_uri": "https://localhost:8080/"
        },
        "id": "nMGUyJWC-HyQ",
        "outputId": "8f68a787-1a3c-4933-89fa-f7340c225d1d"
      },
      "execution_count": null,
      "outputs": [
        {
          "output_type": "execute_result",
          "data": {
            "text/plain": [
              "{'__header__': b'MATLAB 5.0 MAT-file, Platform: PCWIN, Created on: Sat May 27 02:07:24 2006',\n",
              " '__version__': '1.0',\n",
              " '__globals__': [],\n",
              " 'X': array([[106, 130, 191, ...,  70, 183,  77],\n",
              "        [103, 129, 185, ...,  62, 250,  72],\n",
              "        [103, 130, 174, ...,  83, 163,  68],\n",
              "        ...,\n",
              "        [ 37,  40,  22, ...,  87, 102,  93],\n",
              "        [ 36,  36,  19, ...,  89,  95, 103],\n",
              "        [ 41,  35,  17, ...,  94, 106, 110]], dtype=uint8),\n",
              " 'l': array([[ 1,  1,  1,  1,  1,  1,  1,  1,  1,  1,  2,  2,  2,  2,  2,  2,\n",
              "          2,  2,  2,  2,  3,  3,  3,  3,  3,  3,  3,  3,  3,  3,  4,  4,\n",
              "          4,  4,  4,  4,  4,  4,  4,  4,  5,  5,  5,  5,  5,  5,  5,  5,\n",
              "          5,  5,  6,  6,  6,  6,  6,  6,  6,  6,  6,  6,  7,  7,  7,  7,\n",
              "          7,  7,  7,  7,  7,  7,  8,  8,  8,  8,  8,  8,  8,  8,  8,  8,\n",
              "          9,  9,  9,  9,  9,  9,  9,  9,  9,  9, 10, 10, 10, 10, 10, 10,\n",
              "         10, 10, 10, 10, 11, 11, 11, 11, 11, 11, 11, 11, 11, 11, 12, 12,\n",
              "         12, 12, 12, 12, 12, 12, 12, 12, 13, 13, 13, 13, 13, 13, 13, 13,\n",
              "         13, 13, 14, 14, 14, 14, 14, 14, 14, 14, 14, 14, 15, 15, 15, 15,\n",
              "         15, 15, 15, 15, 15, 15, 16, 16, 16, 16, 16, 16, 16, 16, 16, 16,\n",
              "         17, 17, 17, 17, 17, 17, 17, 17, 17, 17, 18, 18, 18, 18, 18, 18,\n",
              "         18, 18, 18, 18, 19, 19, 19, 19, 19, 19, 19, 19, 19, 19, 20, 20,\n",
              "         20, 20, 20, 20, 20, 20, 20, 20, 21, 21, 21, 21, 21, 21, 21, 21,\n",
              "         21, 21, 22, 22, 22, 22, 22, 22, 22, 22, 22, 22, 23, 23, 23, 23,\n",
              "         23, 23, 23, 23, 23, 23, 24, 24, 24, 24, 24, 24, 24, 24, 24, 24,\n",
              "         25, 25, 25, 25, 25, 25, 25, 25, 25, 25, 26, 26, 26, 26, 26, 26,\n",
              "         26, 26, 26, 26, 27, 27, 27, 27, 27, 27, 27, 27, 27, 27, 28, 28,\n",
              "         28, 28, 28, 28, 28, 28, 28, 28, 29, 29, 29, 29, 29, 29, 29, 29,\n",
              "         29, 29, 30, 30, 30, 30, 30, 30, 30, 30, 30, 30, 31, 31, 31, 31,\n",
              "         31, 31, 31, 31, 31, 31, 32, 32, 32, 32, 32, 32, 32, 32, 32, 32,\n",
              "         33, 33, 33, 33, 33, 33, 33, 33, 33, 33, 34, 34, 34, 34, 34, 34,\n",
              "         34, 34, 34, 34, 35, 35, 35, 35, 35, 35, 35, 35, 35, 35, 36, 36,\n",
              "         36, 36, 36, 36, 36, 36, 36, 36, 37, 37, 37, 37, 37, 37, 37, 37,\n",
              "         37, 37, 38, 38, 38, 38, 38, 38, 38, 38, 38, 38, 39, 39, 39, 39,\n",
              "         39, 39, 39, 39, 39, 39, 40, 40, 40, 40, 40, 40, 40, 40, 40, 40,\n",
              "         41, 41, 41, 41, 41, 41, 41, 41, 41, 41, 42, 42, 42, 42, 42, 42,\n",
              "         42, 42, 42, 42, 43, 43, 43, 43, 43, 43, 43, 43, 43, 43, 44, 44,\n",
              "         44, 44, 44, 44, 44, 44, 44, 44, 45, 45, 45, 45, 45, 45, 45, 45,\n",
              "         45, 45, 46, 46, 46, 46, 46, 46, 46, 46, 46, 46, 47, 47, 47, 47,\n",
              "         47, 47, 47, 47, 47, 47, 48, 48, 48, 48, 48, 48, 48, 48, 48, 48,\n",
              "         49, 49, 49, 49, 49, 49, 49, 49, 49, 49, 50, 50, 50, 50, 50, 50,\n",
              "         50, 50, 50, 50, 51, 51, 51, 51, 51, 51, 51, 51, 51, 51, 52, 52,\n",
              "         52, 52, 52, 52, 52, 52, 52, 52]], dtype=uint8)}"
            ]
          },
          "metadata": {},
          "execution_count": 2
        }
      ]
    },
    {
      "cell_type": "code",
      "source": [
        "face_data = mat_content['X']\n",
        "\n",
        "print(face_data) # Each column represents one face image, each row a pixel value for a particular coordinate of the image\n",
        "print(face_data.shape)"
      ],
      "metadata": {
        "colab": {
          "base_uri": "https://localhost:8080/"
        },
        "id": "xVdozByt-Ita",
        "outputId": "d20f9b93-b7dd-4a82-cf44-d34da2bc7c1b"
      },
      "execution_count": null,
      "outputs": [
        {
          "output_type": "stream",
          "name": "stdout",
          "text": [
            "[[106 130 191 ...  70 183  77]\n",
            " [103 129 185 ...  62 250  72]\n",
            " [103 130 174 ...  83 163  68]\n",
            " ...\n",
            " [ 37  40  22 ...  87 102  93]\n",
            " [ 36  36  19 ...  89  95 103]\n",
            " [ 41  35  17 ...  94 106 110]]\n",
            "(2576, 520)\n"
          ]
        }
      ]
    },
    {
      "cell_type": "code",
      "source": [
        "face_identity = mat_content['l']\n",
        "\n",
        "print(face_identity)\n",
        "print(face_identity.shape)"
      ],
      "metadata": {
        "colab": {
          "base_uri": "https://localhost:8080/"
        },
        "id": "DwC1t-6w-KjX",
        "outputId": "47055775-f2dc-4072-dbe4-0779ef9fd560"
      },
      "execution_count": null,
      "outputs": [
        {
          "output_type": "stream",
          "name": "stdout",
          "text": [
            "[[ 1  1  1  1  1  1  1  1  1  1  2  2  2  2  2  2  2  2  2  2  3  3  3  3\n",
            "   3  3  3  3  3  3  4  4  4  4  4  4  4  4  4  4  5  5  5  5  5  5  5  5\n",
            "   5  5  6  6  6  6  6  6  6  6  6  6  7  7  7  7  7  7  7  7  7  7  8  8\n",
            "   8  8  8  8  8  8  8  8  9  9  9  9  9  9  9  9  9  9 10 10 10 10 10 10\n",
            "  10 10 10 10 11 11 11 11 11 11 11 11 11 11 12 12 12 12 12 12 12 12 12 12\n",
            "  13 13 13 13 13 13 13 13 13 13 14 14 14 14 14 14 14 14 14 14 15 15 15 15\n",
            "  15 15 15 15 15 15 16 16 16 16 16 16 16 16 16 16 17 17 17 17 17 17 17 17\n",
            "  17 17 18 18 18 18 18 18 18 18 18 18 19 19 19 19 19 19 19 19 19 19 20 20\n",
            "  20 20 20 20 20 20 20 20 21 21 21 21 21 21 21 21 21 21 22 22 22 22 22 22\n",
            "  22 22 22 22 23 23 23 23 23 23 23 23 23 23 24 24 24 24 24 24 24 24 24 24\n",
            "  25 25 25 25 25 25 25 25 25 25 26 26 26 26 26 26 26 26 26 26 27 27 27 27\n",
            "  27 27 27 27 27 27 28 28 28 28 28 28 28 28 28 28 29 29 29 29 29 29 29 29\n",
            "  29 29 30 30 30 30 30 30 30 30 30 30 31 31 31 31 31 31 31 31 31 31 32 32\n",
            "  32 32 32 32 32 32 32 32 33 33 33 33 33 33 33 33 33 33 34 34 34 34 34 34\n",
            "  34 34 34 34 35 35 35 35 35 35 35 35 35 35 36 36 36 36 36 36 36 36 36 36\n",
            "  37 37 37 37 37 37 37 37 37 37 38 38 38 38 38 38 38 38 38 38 39 39 39 39\n",
            "  39 39 39 39 39 39 40 40 40 40 40 40 40 40 40 40 41 41 41 41 41 41 41 41\n",
            "  41 41 42 42 42 42 42 42 42 42 42 42 43 43 43 43 43 43 43 43 43 43 44 44\n",
            "  44 44 44 44 44 44 44 44 45 45 45 45 45 45 45 45 45 45 46 46 46 46 46 46\n",
            "  46 46 46 46 47 47 47 47 47 47 47 47 47 47 48 48 48 48 48 48 48 48 48 48\n",
            "  49 49 49 49 49 49 49 49 49 49 50 50 50 50 50 50 50 50 50 50 51 51 51 51\n",
            "  51 51 51 51 51 51 52 52 52 52 52 52 52 52 52 52]]\n",
            "(1, 520)\n"
          ]
        }
      ]
    },
    {
      "cell_type": "code",
      "source": [
        "from sklearn.model_selection import train_test_split\n",
        "\n",
        "X_train, X_test, y_train, y_test = train_test_split(face_data.T, face_identity.T, test_size=0.2, random_state=42)\n",
        "\n",
        "print(X_train.shape)"
      ],
      "metadata": {
        "colab": {
          "base_uri": "https://localhost:8080/"
        },
        "id": "8lzpLuze-Mhk",
        "outputId": "e1f8baef-4523-4699-e93e-8bff420a4819"
      },
      "execution_count": null,
      "outputs": [
        {
          "output_type": "stream",
          "name": "stdout",
          "text": [
            "(416, 2576)\n"
          ]
        }
      ]
    },
    {
      "cell_type": "code",
      "source": [
        "import numpy as np\n",
        "from sklearn.ensemble import RandomForestClassifier\n",
        "from sklearn.model_selection import train_test_split\n",
        "from sklearn.metrics import accuracy_score"
      ],
      "metadata": {
        "id": "57Yi2Zhn-W2H"
      },
      "execution_count": null,
      "outputs": []
    },
    {
      "cell_type": "code",
      "source": [
        "# Create a Random Forest Classifier\n",
        "rf_classifier = RandomForestClassifier(n_estimators=100, random_state=42)\n",
        "\n",
        "# Train the classifier on the training data\n",
        "rf_classifier.fit(X_train, y_train.ravel())"
      ],
      "metadata": {
        "colab": {
          "base_uri": "https://localhost:8080/",
          "height": 75
        },
        "id": "HdS3mKBC-Shf",
        "outputId": "4f114342-40be-4789-8c20-52eaf204363d"
      },
      "execution_count": null,
      "outputs": [
        {
          "output_type": "execute_result",
          "data": {
            "text/plain": [
              "RandomForestClassifier(random_state=42)"
            ],
            "text/html": [
              "<style>#sk-container-id-1 {color: black;background-color: white;}#sk-container-id-1 pre{padding: 0;}#sk-container-id-1 div.sk-toggleable {background-color: white;}#sk-container-id-1 label.sk-toggleable__label {cursor: pointer;display: block;width: 100%;margin-bottom: 0;padding: 0.3em;box-sizing: border-box;text-align: center;}#sk-container-id-1 label.sk-toggleable__label-arrow:before {content: \"▸\";float: left;margin-right: 0.25em;color: #696969;}#sk-container-id-1 label.sk-toggleable__label-arrow:hover:before {color: black;}#sk-container-id-1 div.sk-estimator:hover label.sk-toggleable__label-arrow:before {color: black;}#sk-container-id-1 div.sk-toggleable__content {max-height: 0;max-width: 0;overflow: hidden;text-align: left;background-color: #f0f8ff;}#sk-container-id-1 div.sk-toggleable__content pre {margin: 0.2em;color: black;border-radius: 0.25em;background-color: #f0f8ff;}#sk-container-id-1 input.sk-toggleable__control:checked~div.sk-toggleable__content {max-height: 200px;max-width: 100%;overflow: auto;}#sk-container-id-1 input.sk-toggleable__control:checked~label.sk-toggleable__label-arrow:before {content: \"▾\";}#sk-container-id-1 div.sk-estimator input.sk-toggleable__control:checked~label.sk-toggleable__label {background-color: #d4ebff;}#sk-container-id-1 div.sk-label input.sk-toggleable__control:checked~label.sk-toggleable__label {background-color: #d4ebff;}#sk-container-id-1 input.sk-hidden--visually {border: 0;clip: rect(1px 1px 1px 1px);clip: rect(1px, 1px, 1px, 1px);height: 1px;margin: -1px;overflow: hidden;padding: 0;position: absolute;width: 1px;}#sk-container-id-1 div.sk-estimator {font-family: monospace;background-color: #f0f8ff;border: 1px dotted black;border-radius: 0.25em;box-sizing: border-box;margin-bottom: 0.5em;}#sk-container-id-1 div.sk-estimator:hover {background-color: #d4ebff;}#sk-container-id-1 div.sk-parallel-item::after {content: \"\";width: 100%;border-bottom: 1px solid gray;flex-grow: 1;}#sk-container-id-1 div.sk-label:hover label.sk-toggleable__label {background-color: #d4ebff;}#sk-container-id-1 div.sk-serial::before {content: \"\";position: absolute;border-left: 1px solid gray;box-sizing: border-box;top: 0;bottom: 0;left: 50%;z-index: 0;}#sk-container-id-1 div.sk-serial {display: flex;flex-direction: column;align-items: center;background-color: white;padding-right: 0.2em;padding-left: 0.2em;position: relative;}#sk-container-id-1 div.sk-item {position: relative;z-index: 1;}#sk-container-id-1 div.sk-parallel {display: flex;align-items: stretch;justify-content: center;background-color: white;position: relative;}#sk-container-id-1 div.sk-item::before, #sk-container-id-1 div.sk-parallel-item::before {content: \"\";position: absolute;border-left: 1px solid gray;box-sizing: border-box;top: 0;bottom: 0;left: 50%;z-index: -1;}#sk-container-id-1 div.sk-parallel-item {display: flex;flex-direction: column;z-index: 1;position: relative;background-color: white;}#sk-container-id-1 div.sk-parallel-item:first-child::after {align-self: flex-end;width: 50%;}#sk-container-id-1 div.sk-parallel-item:last-child::after {align-self: flex-start;width: 50%;}#sk-container-id-1 div.sk-parallel-item:only-child::after {width: 0;}#sk-container-id-1 div.sk-dashed-wrapped {border: 1px dashed gray;margin: 0 0.4em 0.5em 0.4em;box-sizing: border-box;padding-bottom: 0.4em;background-color: white;}#sk-container-id-1 div.sk-label label {font-family: monospace;font-weight: bold;display: inline-block;line-height: 1.2em;}#sk-container-id-1 div.sk-label-container {text-align: center;}#sk-container-id-1 div.sk-container {/* jupyter's `normalize.less` sets `[hidden] { display: none; }` but bootstrap.min.css set `[hidden] { display: none !important; }` so we also need the `!important` here to be able to override the default hidden behavior on the sphinx rendered scikit-learn.org. See: https://github.com/scikit-learn/scikit-learn/issues/21755 */display: inline-block !important;position: relative;}#sk-container-id-1 div.sk-text-repr-fallback {display: none;}</style><div id=\"sk-container-id-1\" class=\"sk-top-container\"><div class=\"sk-text-repr-fallback\"><pre>RandomForestClassifier(random_state=42)</pre><b>In a Jupyter environment, please rerun this cell to show the HTML representation or trust the notebook. <br />On GitHub, the HTML representation is unable to render, please try loading this page with nbviewer.org.</b></div><div class=\"sk-container\" hidden><div class=\"sk-item\"><div class=\"sk-estimator sk-toggleable\"><input class=\"sk-toggleable__control sk-hidden--visually\" id=\"sk-estimator-id-1\" type=\"checkbox\" checked><label for=\"sk-estimator-id-1\" class=\"sk-toggleable__label sk-toggleable__label-arrow\">RandomForestClassifier</label><div class=\"sk-toggleable__content\"><pre>RandomForestClassifier(random_state=42)</pre></div></div></div></div></div>"
            ]
          },
          "metadata": {},
          "execution_count": 7
        }
      ]
    },
    {
      "cell_type": "code",
      "source": [
        "# Make predictions on the test data\n",
        "y_pred = rf_classifier.predict(X_test)\n",
        "\n",
        "# Calculate the accuracy of the model\n",
        "accuracy = accuracy_score(y_test, y_pred)\n",
        "print(f\"Accuracy: {accuracy * 100:.2f}%\")"
      ],
      "metadata": {
        "colab": {
          "base_uri": "https://localhost:8080/"
        },
        "id": "-jqD5UTr-b6B",
        "outputId": "d9652475-f3be-4f79-f3f8-8faa72a154ad"
      },
      "execution_count": null,
      "outputs": [
        {
          "output_type": "stream",
          "name": "stdout",
          "text": [
            "Accuracy: 62.50%\n"
          ]
        }
      ]
    },
    {
      "cell_type": "markdown",
      "source": [
        "Now we can vary some input values for RF classifier."
      ],
      "metadata": {
        "id": "JKzMeFIO-kTt"
      }
    },
    {
      "cell_type": "code",
      "source": [
        "import time\n",
        "\n",
        "# Define lists of values for the parameters you want to vary\n",
        "n_estimators_values = range(20, 220, 20) # Vary the number of trees\n",
        "max_depth_values = range(10, 110, 10)  # Vary the maximum depth of trees\n",
        "accuracy_results = []\n",
        "time_results = []\n",
        "\n",
        "# Loop through the parameter combinations and train/test RF models\n",
        "for n_estimators in n_estimators_values:\n",
        "    for max_depth in max_depth_values:\n",
        "        # Create a Random Forest Classifier with the current parameter values\n",
        "        rf_classifier = RandomForestClassifier(\n",
        "            n_estimators=n_estimators,\n",
        "            max_depth=max_depth,\n",
        "            random_state=42,\n",
        "        )\n",
        "\n",
        "        start = time.time()\n",
        "\n",
        "        # Train the classifier on the training data\n",
        "        rf_classifier.fit(X_train, y_train.ravel())\n",
        "\n",
        "        end = time.time()\n",
        "\n",
        "        # Make predictions on the test data\n",
        "        y_pred = rf_classifier.predict(X_test)\n",
        "\n",
        "        # Calculate the accuracy of the model\n",
        "        accuracy = accuracy_score(y_test, y_pred)\n",
        "\n",
        "        print(f\"n_estimators={n_estimators}, max_depth={max_depth}\")\n",
        "        print(f\"Accuracy: {accuracy * 100:.2f}%\")\n",
        "\n",
        "        accuracy_results.append(accuracy)\n",
        "        time_results.append(end-start)"
      ],
      "metadata": {
        "colab": {
          "base_uri": "https://localhost:8080/"
        },
        "id": "kKf9U2yG-nlK",
        "outputId": "fed27909-9d21-449a-8757-018caec98404"
      },
      "execution_count": null,
      "outputs": [
        {
          "output_type": "stream",
          "name": "stdout",
          "text": [
            "n_estimators=20, max_depth=10\n",
            "Accuracy: 50.00%\n",
            "n_estimators=20, max_depth=20\n",
            "Accuracy: 54.81%\n",
            "n_estimators=20, max_depth=30\n",
            "Accuracy: 50.96%\n",
            "n_estimators=20, max_depth=40\n",
            "Accuracy: 52.88%\n",
            "n_estimators=20, max_depth=50\n",
            "Accuracy: 52.88%\n",
            "n_estimators=20, max_depth=60\n",
            "Accuracy: 52.88%\n",
            "n_estimators=20, max_depth=70\n",
            "Accuracy: 52.88%\n",
            "n_estimators=20, max_depth=80\n",
            "Accuracy: 52.88%\n",
            "n_estimators=20, max_depth=90\n",
            "Accuracy: 52.88%\n",
            "n_estimators=20, max_depth=100\n",
            "Accuracy: 52.88%\n",
            "n_estimators=40, max_depth=10\n",
            "Accuracy: 48.08%\n",
            "n_estimators=40, max_depth=20\n",
            "Accuracy: 65.38%\n",
            "n_estimators=40, max_depth=30\n",
            "Accuracy: 62.50%\n",
            "n_estimators=40, max_depth=40\n",
            "Accuracy: 59.62%\n",
            "n_estimators=40, max_depth=50\n",
            "Accuracy: 60.58%\n",
            "n_estimators=40, max_depth=60\n",
            "Accuracy: 60.58%\n",
            "n_estimators=40, max_depth=70\n",
            "Accuracy: 60.58%\n",
            "n_estimators=40, max_depth=80\n",
            "Accuracy: 60.58%\n",
            "n_estimators=40, max_depth=90\n",
            "Accuracy: 60.58%\n",
            "n_estimators=40, max_depth=100\n",
            "Accuracy: 60.58%\n",
            "n_estimators=60, max_depth=10\n",
            "Accuracy: 57.69%\n",
            "n_estimators=60, max_depth=20\n",
            "Accuracy: 67.31%\n",
            "n_estimators=60, max_depth=30\n",
            "Accuracy: 63.46%\n",
            "n_estimators=60, max_depth=40\n",
            "Accuracy: 63.46%\n",
            "n_estimators=60, max_depth=50\n",
            "Accuracy: 63.46%\n",
            "n_estimators=60, max_depth=60\n",
            "Accuracy: 63.46%\n",
            "n_estimators=60, max_depth=70\n",
            "Accuracy: 63.46%\n",
            "n_estimators=60, max_depth=80\n",
            "Accuracy: 63.46%\n",
            "n_estimators=60, max_depth=90\n",
            "Accuracy: 63.46%\n",
            "n_estimators=60, max_depth=100\n",
            "Accuracy: 63.46%\n",
            "n_estimators=80, max_depth=10\n",
            "Accuracy: 56.73%\n",
            "n_estimators=80, max_depth=20\n",
            "Accuracy: 64.42%\n",
            "n_estimators=80, max_depth=30\n",
            "Accuracy: 60.58%\n",
            "n_estimators=80, max_depth=40\n",
            "Accuracy: 61.54%\n",
            "n_estimators=80, max_depth=50\n",
            "Accuracy: 61.54%\n",
            "n_estimators=80, max_depth=60\n",
            "Accuracy: 61.54%\n",
            "n_estimators=80, max_depth=70\n",
            "Accuracy: 61.54%\n",
            "n_estimators=80, max_depth=80\n",
            "Accuracy: 61.54%\n",
            "n_estimators=80, max_depth=90\n",
            "Accuracy: 61.54%\n",
            "n_estimators=80, max_depth=100\n",
            "Accuracy: 61.54%\n",
            "n_estimators=100, max_depth=10\n",
            "Accuracy: 54.81%\n",
            "n_estimators=100, max_depth=20\n",
            "Accuracy: 65.38%\n",
            "n_estimators=100, max_depth=30\n",
            "Accuracy: 64.42%\n",
            "n_estimators=100, max_depth=40\n",
            "Accuracy: 62.50%\n",
            "n_estimators=100, max_depth=50\n",
            "Accuracy: 62.50%\n",
            "n_estimators=100, max_depth=60\n",
            "Accuracy: 62.50%\n",
            "n_estimators=100, max_depth=70\n",
            "Accuracy: 62.50%\n",
            "n_estimators=100, max_depth=80\n",
            "Accuracy: 62.50%\n",
            "n_estimators=100, max_depth=90\n",
            "Accuracy: 62.50%\n",
            "n_estimators=100, max_depth=100\n",
            "Accuracy: 62.50%\n",
            "n_estimators=120, max_depth=10\n",
            "Accuracy: 62.50%\n",
            "n_estimators=120, max_depth=20\n",
            "Accuracy: 65.38%\n",
            "n_estimators=120, max_depth=30\n",
            "Accuracy: 65.38%\n",
            "n_estimators=120, max_depth=40\n",
            "Accuracy: 65.38%\n",
            "n_estimators=120, max_depth=50\n",
            "Accuracy: 64.42%\n",
            "n_estimators=120, max_depth=60\n",
            "Accuracy: 64.42%\n",
            "n_estimators=120, max_depth=70\n",
            "Accuracy: 64.42%\n",
            "n_estimators=120, max_depth=80\n",
            "Accuracy: 64.42%\n",
            "n_estimators=120, max_depth=90\n",
            "Accuracy: 64.42%\n",
            "n_estimators=120, max_depth=100\n",
            "Accuracy: 64.42%\n",
            "n_estimators=140, max_depth=10\n",
            "Accuracy: 60.58%\n",
            "n_estimators=140, max_depth=20\n",
            "Accuracy: 68.27%\n",
            "n_estimators=140, max_depth=30\n",
            "Accuracy: 69.23%\n",
            "n_estimators=140, max_depth=40\n",
            "Accuracy: 68.27%\n",
            "n_estimators=140, max_depth=50\n",
            "Accuracy: 67.31%\n",
            "n_estimators=140, max_depth=60\n",
            "Accuracy: 67.31%\n",
            "n_estimators=140, max_depth=70\n",
            "Accuracy: 67.31%\n",
            "n_estimators=140, max_depth=80\n",
            "Accuracy: 67.31%\n",
            "n_estimators=140, max_depth=90\n",
            "Accuracy: 67.31%\n",
            "n_estimators=140, max_depth=100\n",
            "Accuracy: 67.31%\n",
            "n_estimators=160, max_depth=10\n",
            "Accuracy: 60.58%\n",
            "n_estimators=160, max_depth=20\n",
            "Accuracy: 67.31%\n",
            "n_estimators=160, max_depth=30\n",
            "Accuracy: 66.35%\n",
            "n_estimators=160, max_depth=40\n",
            "Accuracy: 67.31%\n",
            "n_estimators=160, max_depth=50\n",
            "Accuracy: 67.31%\n",
            "n_estimators=160, max_depth=60\n",
            "Accuracy: 67.31%\n",
            "n_estimators=160, max_depth=70\n",
            "Accuracy: 67.31%\n",
            "n_estimators=160, max_depth=80\n",
            "Accuracy: 67.31%\n",
            "n_estimators=160, max_depth=90\n",
            "Accuracy: 67.31%\n",
            "n_estimators=160, max_depth=100\n",
            "Accuracy: 67.31%\n",
            "n_estimators=180, max_depth=10\n",
            "Accuracy: 63.46%\n",
            "n_estimators=180, max_depth=20\n",
            "Accuracy: 67.31%\n",
            "n_estimators=180, max_depth=30\n",
            "Accuracy: 66.35%\n",
            "n_estimators=180, max_depth=40\n",
            "Accuracy: 67.31%\n",
            "n_estimators=180, max_depth=50\n",
            "Accuracy: 67.31%\n",
            "n_estimators=180, max_depth=60\n",
            "Accuracy: 67.31%\n",
            "n_estimators=180, max_depth=70\n",
            "Accuracy: 67.31%\n",
            "n_estimators=180, max_depth=80\n",
            "Accuracy: 67.31%\n",
            "n_estimators=180, max_depth=90\n",
            "Accuracy: 67.31%\n",
            "n_estimators=180, max_depth=100\n",
            "Accuracy: 67.31%\n",
            "n_estimators=200, max_depth=10\n",
            "Accuracy: 65.38%\n",
            "n_estimators=200, max_depth=20\n",
            "Accuracy: 65.38%\n",
            "n_estimators=200, max_depth=30\n",
            "Accuracy: 65.38%\n",
            "n_estimators=200, max_depth=40\n",
            "Accuracy: 65.38%\n",
            "n_estimators=200, max_depth=50\n",
            "Accuracy: 65.38%\n",
            "n_estimators=200, max_depth=60\n",
            "Accuracy: 65.38%\n",
            "n_estimators=200, max_depth=70\n",
            "Accuracy: 65.38%\n",
            "n_estimators=200, max_depth=80\n",
            "Accuracy: 65.38%\n",
            "n_estimators=200, max_depth=90\n",
            "Accuracy: 65.38%\n",
            "n_estimators=200, max_depth=100\n",
            "Accuracy: 65.38%\n"
          ]
        }
      ]
    },
    {
      "cell_type": "code",
      "source": [
        "import numpy as np\n",
        "import matplotlib.pyplot as plt\n",
        "\n",
        "# Create a grid of (K, D) values\n",
        "K_grid, D_grid = np.meshgrid(n_estimators_values, max_depth_values)\n",
        "\n",
        "# Create a 2D array of A values corresponding to (K, D) pairs\n",
        "A_grid = np.array(accuracy_results).reshape(K_grid.shape).T\n",
        "\n",
        "# Create a contour plot\n",
        "plt.contourf(K_grid, D_grid, A_grid, cmap='viridis')\n",
        "plt.colorbar()\n",
        "plt.xlabel('n_estimators')\n",
        "plt.ylabel('max_depth')\n",
        "plt.title('2D Contour Plot of Accuracy')\n",
        "\n",
        "plt.show()"
      ],
      "metadata": {
        "colab": {
          "base_uri": "https://localhost:8080/",
          "height": 472
        },
        "id": "4p3Emuo1A29R",
        "outputId": "5a33ce49-71df-4816-bf1c-d7c91c624a93"
      },
      "execution_count": null,
      "outputs": [
        {
          "output_type": "display_data",
          "data": {
            "text/plain": [
              "<Figure size 640x480 with 2 Axes>"
            ],
            "image/png": "[encoded data removed]"
          },
          "metadata": {}
        }
      ]
    },
    {
      "cell_type": "code",
      "source": [
        "import numpy as np\n",
        "import matplotlib.pyplot as plt\n",
        "\n",
        "# Create a grid of (K, D) values\n",
        "K_grid, D_grid = np.meshgrid(n_estimators_values, max_depth_values)\n",
        "\n",
        "# Create a 2D array of A values corresponding to (K, D) pairs\n",
        "A_grid = np.array(time_results).reshape(K_grid.shape).T\n",
        "\n",
        "# Create a contour plot\n",
        "plt.contourf(K_grid, D_grid, A_grid, cmap='viridis')\n",
        "plt.colorbar()\n",
        "plt.xlabel('n_estimators')\n",
        "plt.ylabel('max_depth')\n",
        "plt.title('2D Contour Plot of Time')\n",
        "\n",
        "plt.show()"
      ],
      "metadata": {
        "colab": {
          "base_uri": "https://localhost:8080/",
          "height": 472
        },
        "id": "ClDzooVBa6EF",
        "outputId": "fbba5237-41d2-4941-c181-288feb12582d"
      },
      "execution_count": null,
      "outputs": [
        {
          "output_type": "display_data",
          "data": {
            "text/plain": [
              "<Figure size 640x480 with 2 Axes>"
            ],
            "image/png": "[encoded data removed]"
          },
          "metadata": {}
        }
      ]
    },
    {
      "cell_type": "code",
      "source": [
        "# Create a Random Forest Classifier\n",
        "rf_classifier = RandomForestClassifier(n_estimators=140, max_depth=30, random_state=42)\n",
        "\n",
        "# Train the classifier on the training data\n",
        "rf_classifier.fit(X_train, y_train.ravel())"
      ],
      "metadata": {
        "colab": {
          "base_uri": "https://localhost:8080/",
          "height": 75
        },
        "id": "kQVOy0UcETFL",
        "outputId": "d8ec1169-3254-43c5-dd48-06833175ceeb"
      },
      "execution_count": null,
      "outputs": [
        {
          "output_type": "execute_result",
          "data": {
            "text/plain": [
              "RandomForestClassifier(max_depth=30, n_estimators=140, random_state=42)"
            ],
            "text/html": [
              "<style>#sk-container-id-2 {color: black;background-color: white;}#sk-container-id-2 pre{padding: 0;}#sk-container-id-2 div.sk-toggleable {background-color: white;}#sk-container-id-2 label.sk-toggleable__label {cursor: pointer;display: block;width: 100%;margin-bottom: 0;padding: 0.3em;box-sizing: border-box;text-align: center;}#sk-container-id-2 label.sk-toggleable__label-arrow:before {content: \"▸\";float: left;margin-right: 0.25em;color: #696969;}#sk-container-id-2 label.sk-toggleable__label-arrow:hover:before {color: black;}#sk-container-id-2 div.sk-estimator:hover label.sk-toggleable__label-arrow:before {color: black;}#sk-container-id-2 div.sk-toggleable__content {max-height: 0;max-width: 0;overflow: hidden;text-align: left;background-color: #f0f8ff;}#sk-container-id-2 div.sk-toggleable__content pre {margin: 0.2em;color: black;border-radius: 0.25em;background-color: #f0f8ff;}#sk-container-id-2 input.sk-toggleable__control:checked~div.sk-toggleable__content {max-height: 200px;max-width: 100%;overflow: auto;}#sk-container-id-2 input.sk-toggleable__control:checked~label.sk-toggleable__label-arrow:before {content: \"▾\";}#sk-container-id-2 div.sk-estimator input.sk-toggleable__control:checked~label.sk-toggleable__label {background-color: #d4ebff;}#sk-container-id-2 div.sk-label input.sk-toggleable__control:checked~label.sk-toggleable__label {background-color: #d4ebff;}#sk-container-id-2 input.sk-hidden--visually {border: 0;clip: rect(1px 1px 1px 1px);clip: rect(1px, 1px, 1px, 1px);height: 1px;margin: -1px;overflow: hidden;padding: 0;position: absolute;width: 1px;}#sk-container-id-2 div.sk-estimator {font-family: monospace;background-color: #f0f8ff;border: 1px dotted black;border-radius: 0.25em;box-sizing: border-box;margin-bottom: 0.5em;}#sk-container-id-2 div.sk-estimator:hover {background-color: #d4ebff;}#sk-container-id-2 div.sk-parallel-item::after {content: \"\";width: 100%;border-bottom: 1px solid gray;flex-grow: 1;}#sk-container-id-2 div.sk-label:hover label.sk-toggleable__label {background-color: #d4ebff;}#sk-container-id-2 div.sk-serial::before {content: \"\";position: absolute;border-left: 1px solid gray;box-sizing: border-box;top: 0;bottom: 0;left: 50%;z-index: 0;}#sk-container-id-2 div.sk-serial {display: flex;flex-direction: column;align-items: center;background-color: white;padding-right: 0.2em;padding-left: 0.2em;position: relative;}#sk-container-id-2 div.sk-item {position: relative;z-index: 1;}#sk-container-id-2 div.sk-parallel {display: flex;align-items: stretch;justify-content: center;background-color: white;position: relative;}#sk-container-id-2 div.sk-item::before, #sk-container-id-2 div.sk-parallel-item::before {content: \"\";position: absolute;border-left: 1px solid gray;box-sizing: border-box;top: 0;bottom: 0;left: 50%;z-index: -1;}#sk-container-id-2 div.sk-parallel-item {display: flex;flex-direction: column;z-index: 1;position: relative;background-color: white;}#sk-container-id-2 div.sk-parallel-item:first-child::after {align-self: flex-end;width: 50%;}#sk-container-id-2 div.sk-parallel-item:last-child::after {align-self: flex-start;width: 50%;}#sk-container-id-2 div.sk-parallel-item:only-child::after {width: 0;}#sk-container-id-2 div.sk-dashed-wrapped {border: 1px dashed gray;margin: 0 0.4em 0.5em 0.4em;box-sizing: border-box;padding-bottom: 0.4em;background-color: white;}#sk-container-id-2 div.sk-label label {font-family: monospace;font-weight: bold;display: inline-block;line-height: 1.2em;}#sk-container-id-2 div.sk-label-container {text-align: center;}#sk-container-id-2 div.sk-container {/* jupyter's `normalize.less` sets `[hidden] { display: none; }` but bootstrap.min.css set `[hidden] { display: none !important; }` so we also need the `!important` here to be able to override the default hidden behavior on the sphinx rendered scikit-learn.org. See: https://github.com/scikit-learn/scikit-learn/issues/21755 */display: inline-block !important;position: relative;}#sk-container-id-2 div.sk-text-repr-fallback {display: none;}</style><div id=\"sk-container-id-2\" class=\"sk-top-container\"><div class=\"sk-text-repr-fallback\"><pre>RandomForestClassifier(max_depth=30, n_estimators=140, random_state=42)</pre><b>In a Jupyter environment, please rerun this cell to show the HTML representation or trust the notebook. <br />On GitHub, the HTML representation is unable to render, please try loading this page with nbviewer.org.</b></div><div class=\"sk-container\" hidden><div class=\"sk-item\"><div class=\"sk-estimator sk-toggleable\"><input class=\"sk-toggleable__control sk-hidden--visually\" id=\"sk-estimator-id-2\" type=\"checkbox\" checked><label for=\"sk-estimator-id-2\" class=\"sk-toggleable__label sk-toggleable__label-arrow\">RandomForestClassifier</label><div class=\"sk-toggleable__content\"><pre>RandomForestClassifier(max_depth=30, n_estimators=140, random_state=42)</pre></div></div></div></div></div>"
            ]
          },
          "metadata": {},
          "execution_count": 12
        }
      ]
    },
    {
      "cell_type": "code",
      "source": [
        "# Make predictions on the test data\n",
        "y_pred = rf_classifier.predict(X_test)\n",
        "\n",
        "# Calculate the accuracy of the model\n",
        "accuracy = accuracy_score(y_test, y_pred)\n",
        "print(f\"Accuracy: {accuracy * 100:.2f}%\")"
      ],
      "metadata": {
        "colab": {
          "base_uri": "https://localhost:8080/"
        },
        "id": "EX73FaGcE3sr",
        "outputId": "92731d64-3c63-41a6-bc88-583b20642a79"
      },
      "execution_count": null,
      "outputs": [
        {
          "output_type": "stream",
          "name": "stdout",
          "text": [
            "Accuracy: 69.23%\n"
          ]
        }
      ]
    },
    {
      "cell_type": "code",
      "source": [
        "from sklearn.metrics import confusion_matrix\n",
        "import itertools\n",
        "import matplotlib.pyplot as plt\n",
        "\n",
        "cfn_matrix = confusion_matrix(y_test, y_pred)\n",
        "\n",
        "plt.matshow(cfn_matrix, cmap = 'Blues')\n",
        "\n",
        "plt.colorbar()\n",
        "plt.ylabel('Actual')\n",
        "plt.xlabel('Predicted')\n",
        "\n",
        "plt.show()"
      ],
      "metadata": {
        "colab": {
          "base_uri": "https://localhost:8080/",
          "height": 422
        },
        "id": "pC0LuBm1E_ho",
        "outputId": "1c257daa-db78-44ce-94a2-156a6d273851"
      },
      "execution_count": null,
      "outputs": [
        {
          "output_type": "display_data",
          "data": {
            "text/plain": [
              "<Figure size 480x480 with 2 Axes>"
            ],
            "image/png": "[encoded data removed]"
          },
          "metadata": {}
        }
      ]
    },
    {
      "cell_type": "code",
      "source": [
        "# find success case\n",
        "for index in range(len(y_pred)):\n",
        "  if y_test[index] == y_pred[index]:\n",
        "    original_image = X_test[index]\n",
        "    original_face = np.reshape(original_image,(46,56)).T\n",
        "\n",
        "    plt.subplot(121),plt.imshow(original_face, cmap = 'gist_gray')\n",
        "    plt.title('original: %d, predict: %d' % (y_test[index], y_pred[index])), plt.xticks([]), plt.yticks([])\n",
        "    break\n",
        "\n",
        "# find failure case\n",
        "for index in range(len(y_pred)):\n",
        "  if y_test[index] != y_pred[index]:\n",
        "    original_image = X_test[index]\n",
        "    original_face = np.reshape(original_image,(46,56)).T\n",
        "\n",
        "    plt.subplot(122),plt.imshow(original_face, cmap = 'gist_gray')\n",
        "    plt.title('original: %d, predict: %d' % (y_test[index], y_pred[index])), plt.xticks([]), plt.yticks([])\n",
        "    break\n",
        "\n",
        "plt.show()"
      ],
      "metadata": {
        "id": "yLXjZXOQFKGG",
        "outputId": "67e1c1b5-fe4a-4aa6-ca7b-101559267c47",
        "colab": {
          "base_uri": "https://localhost:8080/",
          "height": 333
        }
      },
      "execution_count": null,
      "outputs": [
        {
          "output_type": "display_data",
          "data": {
            "text/plain": [
              "<Figure size 640x480 with 2 Axes>"
            ],
            "image/png": "[encoded data removed]"
          },
          "metadata": {}
        }
      ]
    }
  ]
}